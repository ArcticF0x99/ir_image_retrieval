{
 "cells": [
  {
   "cell_type": "code",
   "execution_count": 41,
   "metadata": {},
   "outputs": [],
   "source": [
    "import statsmodels.stats.inter_rater as stats\n",
    "from glob import glob\n",
    "import pandas as pd\n",
    "import numpy as np"
   ]
  },
  {
   "cell_type": "code",
   "execution_count": 42,
   "metadata": {},
   "outputs": [
    {
     "name": "stdout",
     "output_type": "stream",
     "text": [
      "(1805, 3)\n"
     ]
    }
   ],
   "source": [
    "def merge_annotations(input_glob : str):\n",
    "    dfs = [pd.read_json(path, lines=True) for path in glob(input_glob)]\n",
    "    results = np.empty((dfs[0].shape[0], len(dfs)), np.int32)\n",
    "    print(results.shape)\n",
    "    for x, df in enumerate(dfs):\n",
    "        for y, row in df.iterrows():\n",
    "            labels = set(row['label'])\n",
    "            if labels == {'Off Topic'}:\n",
    "                results[y,x] = 0\n",
    "            if labels == {'On Topic', 'Neutral'}:\n",
    "                results[y,x] = 1\n",
    "            if labels == {'On Topic', 'Con'}:\n",
    "                results[y,x] = 2\n",
    "            if labels == {'On Topic', 'Pro'}:\n",
    "                results[y,x] = 3\n",
    "    return results\n",
    "\n",
    "\n",
    "annotations = merge_annotations('annotations/*.jsonl')\n",
    "aggregated, _ = stats.aggregate_raters(annotations)"
   ]
  },
  {
   "cell_type": "code",
   "execution_count": 43,
   "metadata": {},
   "outputs": [
    {
     "name": "stdout",
     "output_type": "stream",
     "text": [
      "[[3 0 0 0]\n",
      " [0 0 1 2]\n",
      " [0 1 2 0]\n",
      " ...\n",
      " [1 2 0 0]\n",
      " [0 2 1 0]\n",
      " [1 2 0 0]]\n"
     ]
    }
   ],
   "source": [
    "print(aggregated)"
   ]
  },
  {
   "cell_type": "code",
   "execution_count": 44,
   "metadata": {},
   "outputs": [
    {
     "data": {
      "text/plain": [
       "0.36667538475512645"
      ]
     },
     "execution_count": 44,
     "metadata": {},
     "output_type": "execute_result"
    }
   ],
   "source": [
    "stats..fleiss_kappa(aggregated, 'fleiss')"
   ]
  },
  {
   "cell_type": "code",
   "execution_count": 45,
   "metadata": {},
   "outputs": [
    {
     "data": {
      "text/plain": [
       "array([[3., 0., 0., 0.],\n",
       "       [0., 0., 1., 2.],\n",
       "       [0., 1., 2., 0.],\n",
       "       ...,\n",
       "       [1., 2., 0., 0.],\n",
       "       [0., 2., 1., 0.],\n",
       "       [1., 2., 0., 0.]])"
      ]
     },
     "execution_count": 45,
     "metadata": {},
     "output_type": "execute_result"
    }
   ],
   "source": [
    "1.0 * np.asarray(aggregated)"
   ]
  }
 ],
 "metadata": {
  "kernelspec": {
   "display_name": "information_retrieval",
   "language": "python",
   "name": "python3"
  },
  "language_info": {
   "codemirror_mode": {
    "name": "ipython",
    "version": 3
   },
   "file_extension": ".py",
   "mimetype": "text/x-python",
   "name": "python",
   "nbconvert_exporter": "python",
   "pygments_lexer": "ipython3",
   "version": "3.8.13"
  },
  "orig_nbformat": 4
 },
 "nbformat": 4,
 "nbformat_minor": 2
}
