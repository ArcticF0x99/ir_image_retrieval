{
 "cells": [
  {
   "cell_type": "code",
   "execution_count": null,
   "metadata": {},
   "outputs": [],
   "source": []
  },
  {
   "cell_type": "code",
   "execution_count": 1,
   "metadata": {},
   "outputs": [],
   "source": [
    "with open('touche-task3-051-100-relevance.qrels') as file:\n",
    "    lines = [line.rstrip() for line in file]"
   ]
  },
  {
   "cell_type": "code",
   "execution_count": 19,
   "metadata": {},
   "outputs": [],
   "source": [
    "def single_true(iterable):\n",
    "    i = iter(iterable)\n",
    "    return any(i) and not any(i)\n",
    "\n",
    "with open('qrel_converted.csv', 'w') as output_file:\n",
    "    for line_con, line_on_topic, line_pro in zip(lines[0::3], lines[1::3], lines[2::3]):\n",
    "        if ' CON ' not in line_con or ' ONTOPIC ' not in line_on_topic or ' PRO ' not in line_pro:\n",
    "            raise Exception('Not matching expected structure')\n",
    "\n",
    "        parts_on_topic = line_on_topic.split(' ')\n",
    "        parts_pro = line_pro.split(' ')\n",
    "        parts_con = line_con.split(' ')\n",
    "\n",
    "        topic_id = parts_con[0]\n",
    "        image_id = parts_con[2]\n",
    "\n",
    "        if not (topic_id == parts_on_topic[0] \n",
    "                and image_id == parts_on_topic[2] \n",
    "                and topic_id == parts_pro[0] \n",
    "                and image_id == parts_pro[2]):\n",
    "            raise Exception('Not matching expected structure')\n",
    "\n",
    "        identifier = f'{topic_id}-{image_id}'\n",
    "\n",
    "\n",
    "        is_off_topic = parts_on_topic[-1] == '0'\n",
    "        is_pro = parts_pro[-1] != '0'\n",
    "        score_pro = int(parts_pro[-1])\n",
    "        is_con = parts_con[-1] != '0'\n",
    "        score_con = int(parts_con[-1])\n",
    "        is_neutral = (not is_off_topic) and not (is_pro ^ is_con)\n",
    "\n",
    "        if not single_true((is_off_topic, is_pro, is_con, is_neutral)):\n",
    "            pass\n",
    "            # this is concerning, but we'll accept it\n",
    "            #print('ooo', is_off_topic, is_pro, is_con, is_neutral, identifier, score_con, score_pro)\n",
    "\n",
    "        if is_neutral or is_off_topic:\n",
    "            is_con = False\n",
    "            is_pro = False\n",
    "        \n",
    "        score = 'Con' if is_con else 'Pro' if is_pro else 'Neutral' if is_neutral else 'Off Topic'\n",
    "\n",
    "        output_file.write(f\"{identifier}.jpg, '{score}'\\n\")\n",
    "    \n",
    "\n",
    "\n",
    "\n"
   ]
  },
  {
   "cell_type": "code",
   "execution_count": null,
   "metadata": {},
   "outputs": [],
   "source": []
  }
 ],
 "metadata": {
  "kernelspec": {
   "display_name": "information_retrieval",
   "language": "python",
   "name": "python3"
  },
  "language_info": {
   "codemirror_mode": {
    "name": "ipython",
    "version": 3
   },
   "file_extension": ".py",
   "mimetype": "text/x-python",
   "name": "python",
   "nbconvert_exporter": "python",
   "pygments_lexer": "ipython3",
   "version": "3.8.13"
  },
  "orig_nbformat": 4
 },
 "nbformat": 4,
 "nbformat_minor": 2
}
