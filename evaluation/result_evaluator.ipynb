{
 "cells": [
  {
   "cell_type": "code",
   "execution_count": 60,
   "metadata": {},
   "outputs": [],
   "source": [
    "import pandas as pd\n",
    "from glob import glob\n",
    "import os\n",
    "from typing import List, Set\n",
    "from statistics import mean\n",
    "from sklearn.metrics import average_precision_score\n",
    "import numpy as np"
   ]
  },
  {
   "cell_type": "code",
   "execution_count": 2,
   "metadata": {},
   "outputs": [],
   "source": [
    "ground_truth = pd.read_csv('merged_annotation.csv', header=None, names=('Path', 'Score'), sep=',', skipinitialspace=True, quotechar=\"'\")\n",
    "ground_truth['id'] = ground_truth['Path'].str[:-4]\n",
    "ground_truth.set_index('id', inplace=True)\n",
    "# ground_truth.loc['55-If3ebb17bc7963bfa8d81f040'].Score (=='Off Topic')"
   ]
  },
  {
   "cell_type": "code",
   "execution_count": 80,
   "metadata": {},
   "outputs": [
    {
     "name": "stdout",
     "output_type": "stream",
     "text": [
      "run-results\\run0.txt\n",
      "Precision at 10: 0.15\n",
      "Mean Average Precision (probably calculated wrong): 0.20145551948051948\n",
      "\n",
      "run-results\\run1.txt\n",
      "Precision at 10: 0.13\n",
      "Mean Average Precision (probably calculated wrong): 0.19378113275613276\n",
      "\n",
      "run-results\\run2.txt\n",
      "Precision at 10: 0.1148936170212766\n",
      "Mean Average Precision (probably calculated wrong): 0.30283931535039693\n",
      "\n",
      "run-results\\run3.txt\n",
      "Precision at 10: 0.148\n",
      "Mean Average Precision (probably calculated wrong): 0.22030833333333333\n",
      "\n"
     ]
    }
   ],
   "source": [
    "def calculate_precision_at_k(run_result_path : str, k : int):\n",
    "    df = pd.read_csv(run_result_path, delim_whitespace=True, header=None, names=('QueryId', 'Stance', 'ImageId', 'Score', 'Rank', 'Tag'))\n",
    "    \n",
    "    precision_history = []\n",
    "    for (image_id, stance), results in df.groupby(['QueryId', 'Stance']):\n",
    "        true_positives = 0\n",
    "        for _, row in results.iterrows():\n",
    "            if row['Rank'] > k:\n",
    "                continue\n",
    "\n",
    "            lookup_id = f'{row[\"QueryId\"]}-{row[\"ImageId\"]}'\n",
    "            score = ground_truth.loc[lookup_id].Score\n",
    "            if (stance == 'pro' and score == 'Pro') or (stance == 'con' and score == 'Con'):\n",
    "                true_positives += 1\n",
    "        precision_history.append(true_positives/k)\n",
    "    \n",
    "    print(f'Precision at {k}: {mean(precision_history)}')\n",
    "\n",
    "def calculate_map(run_result_path : str):\n",
    "    df = pd.read_csv(run_result_path, delim_whitespace=True, header=None, names=('QueryId', 'Stance', 'ImageId', 'Score', 'Rank', 'Tag'))\n",
    "    \n",
    "    ap_history = []\n",
    "    for (query_id, stance), results in df.sort_values(['Rank'], ascending=True).groupby(['QueryId', 'Stance']):\n",
    "        def get_true_score(row : pd.Series):\n",
    "            true_stance = ground_truth.loc[row.LookupId].Score\n",
    "            true_score = int((stance == 'pro' and true_stance == 'Pro') or (stance == 'con' and true_stance == 'Con'))\n",
    "            return true_score\n",
    "\n",
    "        results['LookupId'] = str(query_id) + '-' + results['ImageId']\n",
    "        results['TrueScore'] = results.apply(get_true_score, axis=1)\n",
    "        ap = average_precision_score(np.array(list(results['TrueScore']) + [1]), np.array([1] * len(results['Score']) + [0]) )\n",
    "        ap_history.append(ap)\n",
    "    \n",
    "    print(f'Mean Average Precision (probably calculated wrong): {mean(ap_history)}')\n",
    "\n",
    "for path in glob('run-results/run*.txt'):\n",
    "    print(path)\n",
    "    calculate_precision_at_k(path, 10)\n",
    "    calculate_map(path)\n",
    "    print()"
   ]
  }
 ],
 "metadata": {
  "kernelspec": {
   "display_name": "information_retrieval",
   "language": "python",
   "name": "python3"
  },
  "language_info": {
   "codemirror_mode": {
    "name": "ipython",
    "version": 3
   },
   "file_extension": ".py",
   "mimetype": "text/x-python",
   "name": "python",
   "nbconvert_exporter": "python",
   "pygments_lexer": "ipython3",
   "version": "3.8.13"
  },
  "orig_nbformat": 4
 },
 "nbformat": 4,
 "nbformat_minor": 2
}
