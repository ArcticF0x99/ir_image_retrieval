{
 "cells": [
  {
   "cell_type": "code",
   "execution_count": 92,
   "metadata": {},
   "outputs": [],
   "source": [
    "import pandas as pd\n",
    "from glob import glob\n",
    "import os\n",
    "from typing import List, Set\n",
    "from statistics import mean"
   ]
  },
  {
   "cell_type": "code",
   "execution_count": 26,
   "metadata": {},
   "outputs": [],
   "source": [
    "ground_truth = pd.read_csv('merged_annotation.csv', header=None, names=('Path', 'Score'), sep=',', skipinitialspace=True, quotechar=\"'\")\n",
    "ground_truth['id'] = ground_truth['Path'].str[:-4]\n",
    "ground_truth.set_index('id', inplace=True)\n",
    "# ground_truth.loc['55-If3ebb17bc7963bfa8d81f040'].Score (=='Off Topic')"
   ]
  },
  {
   "cell_type": "code",
   "execution_count": 108,
   "metadata": {},
   "outputs": [
    {
     "name": "stdout",
     "output_type": "stream",
     "text": [
      "Precision at 3: 0.09999999999999999\n"
     ]
    }
   ],
   "source": [
    "def calculate_precision_at_k(run_result_path : str, k : int):\n",
    "    df = pd.read_csv(run_result_path, delim_whitespace=True, header=None, names=('QueryId', 'Stance', 'ImageId', 'Score', 'Rank', 'Tag'))\n",
    "    \n",
    "    precision_history = []\n",
    "    for (image_id, stance), results in df.groupby(['QueryId', 'Stance']):\n",
    "        true_positives = 0\n",
    "        for _, row in results.iterrows():\n",
    "            if row['Rank'] > k:\n",
    "                continue\n",
    "\n",
    "            lookup_id = f'{row[\"QueryId\"]}-{row[\"ImageId\"]}'\n",
    "            score = ground_truth.loc[lookup_id].Score\n",
    "            if (stance == 'pro' and score == 'Pro') or (stance == 'con' and score == 'Con'):\n",
    "                true_positives += 1\n",
    "        precision_history.append(true_positives/k)\n",
    "    \n",
    "    print(f'Precision at {k}: {mean(precision_history)}')\n",
    "\n",
    "prec = calculate_precision_at_k('run-results/run3.txt', 3)"
   ]
  },
  {
   "cell_type": "code",
   "execution_count": 76,
   "metadata": {},
   "outputs": [
    {
     "name": "stdout",
     "output_type": "stream",
     "text": [
      "    QueryId Stance                    ImageId  Score  Rank Tag\n",
      "10       51    con  If0312920d8e2b14e67471275      1    10   -\n",
      "11       51    con  I65be4ac0c003a24940c977be      2     9   -\n",
      "12       51    con  Ib5922f507114277155dc96e9      3     8   -\n",
      "13       51    con  I8afb105ac66beff412a54681      4     7   -\n",
      "14       51    con  Ia9eee868fd1fbb2fdcdf41ea      5     6   -\n",
      "15       51    con  I5223eaa67229e284b12f9414      6     5   -\n",
      "16       51    con  Ic5dbf002236fdadbcd432f98      7     4   -\n",
      "17       51    con  Ia146f5c11acc7bdcb2621d8b      8     3   -\n",
      "18       51    con  I77664a737969ae4b2c429b8f      9     2   -\n",
      "19       51    con  I98eb652a8f63ba6f71858848     10     1   -\n"
     ]
    }
   ],
   "source": []
  }
 ],
 "metadata": {
  "kernelspec": {
   "display_name": "information_retrieval",
   "language": "python",
   "name": "python3"
  },
  "language_info": {
   "codemirror_mode": {
    "name": "ipython",
    "version": 3
   },
   "file_extension": ".py",
   "mimetype": "text/x-python",
   "name": "python",
   "nbconvert_exporter": "python",
   "pygments_lexer": "ipython3",
   "version": "3.8.13"
  },
  "orig_nbformat": 4
 },
 "nbformat": 4,
 "nbformat_minor": 2
}
