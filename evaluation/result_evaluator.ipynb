{
 "cells": [
  {
   "cell_type": "code",
   "execution_count": 27,
   "metadata": {},
   "outputs": [],
   "source": [
    "import warnings\n",
    "warnings.simplefilter(\"ignore\", UserWarning)\n",
    "import pandas as pd\n",
    "from glob import glob\n",
    "import os\n",
    "from typing import List, Set\n",
    "from statistics import mean\n",
    "from sklearn.metrics import average_precision_score\n",
    "from scipy.stats import ttest_ind\n",
    "import numpy as np"
   ]
  },
  {
   "cell_type": "code",
   "execution_count": 28,
   "metadata": {},
   "outputs": [],
   "source": [
    "ground_truth = pd.read_csv('merged_annotation.csv', header=None, names=('Path', 'Score'), sep=',', skipinitialspace=True, quotechar=\"'\")\n",
    "ground_truth['id'] = ground_truth['Path'].str[:-4]\n",
    "ground_truth.set_index('id', inplace=True)\n",
    "# ground_truth.loc['55-If3ebb17bc7963bfa8d81f040'].Score (=='Off Topic')"
   ]
  },
  {
   "cell_type": "code",
   "execution_count": 31,
   "metadata": {},
   "outputs": [
    {
     "name": "stdout",
     "output_type": "stream",
     "text": [
      "run-results\\run-1.txt\n",
      "Precision at 10: 0.147\n",
      "Precision at 1: 0.14\n",
      "Mean Average Precision: 0.147\n",
      "\n",
      "run-results\\run0.txt\n",
      "Precision at 10: 0.15\n",
      "Precision at 1: 0.18\n",
      "Mean Average Precision: 0.15\n",
      "T-Test:  Ttest_indResult(statistic=-0.10437250165798578, pvalue=0.9169793923642124)\n",
      "\n",
      "run-results\\run1.txt\n",
      "Precision at 10: 0.13\n",
      "Precision at 1: 0.08\n",
      "Mean Average Precision: 0.13216666666666665\n",
      "T-Test:  Ttest_indResult(statistic=0.5273562197081764, pvalue=0.598536639782616)\n",
      "\n",
      "run-results\\run2.txt\n",
      "Precision at 10: 0.1148936170212766\n",
      "Precision at 1: 0.14893617021276595\n",
      "Mean Average Precision: 0.18527524484971294\n",
      "T-Test:  Ttest_indResult(statistic=-1.0942843243485154, pvalue=0.2752012087288021)\n",
      "\n",
      "run-results\\run3.txt\n",
      "Precision at 10: 0.148\n",
      "Precision at 1: 0.07\n",
      "Mean Average Precision: 0.15533333333333332\n",
      "T-Test:  Ttest_indResult(statistic=-0.28502055175917607, pvalue=0.7759263018806899)\n",
      "\n"
     ]
    }
   ],
   "source": [
    "def calculate_precision_at_k(run_result_path : str, k : int):\n",
    "    df = pd.read_csv(run_result_path, delim_whitespace=True, header=None, names=('QueryId', 'Stance', 'ImageId', 'Score', 'Rank', 'Tag'))\n",
    "    \n",
    "    precision_history = []\n",
    "    for (image_id, stance), results in df.groupby(['QueryId', 'Stance']):\n",
    "        true_positives = 0\n",
    "        for _, row in results.iterrows():\n",
    "            if row['Rank'] > k:\n",
    "                continue\n",
    "\n",
    "            lookup_id = f'{row[\"QueryId\"]}-{row[\"ImageId\"]}'\n",
    "            score = ground_truth.loc[lookup_id].Score\n",
    "            if (stance == 'pro' and score == 'Pro') or (stance == 'con' and score == 'Con'):\n",
    "                true_positives += 1\n",
    "        precision_history.append(true_positives/k)\n",
    "    \n",
    "    print(f'Precision at {k}: {mean(precision_history)}')\n",
    "\n",
    "def calculate_map(run_result_path : str):\n",
    "    ap_history = get_ap_history(run_result_path)\n",
    "    \n",
    "    print(f'Mean Average Precision: {mean(ap_history)}')\n",
    "\n",
    "def get_ap_history(run_result_path : str):\n",
    "    df = pd.read_csv(run_result_path, delim_whitespace=True, header=None, names=('QueryId', 'Stance', 'ImageId', 'Score', 'Rank', 'Tag'))\n",
    "    \n",
    "    ap_history = []\n",
    "    for (query_id, stance), results in df.sort_values(['Rank'], ascending=True).groupby(['QueryId', 'Stance']):\n",
    "        def get_true_score(row : pd.Series):\n",
    "            true_stance = ground_truth.loc[row.LookupId].Score\n",
    "            true_score = int((stance == 'pro' and true_stance == 'Pro') or (stance == 'con' and true_stance == 'Con'))\n",
    "            return true_score\n",
    "\n",
    "        results['LookupId'] = str(query_id) + '-' + results['ImageId']\n",
    "        results['TrueScore'] = results.apply(get_true_score, axis=1)\n",
    "        ap = average_precision_score(np.array(list(results['TrueScore'])), np.array([1] * len(results['Score'])) )\n",
    "        ap_history.append(ap)\n",
    "    \n",
    "    return ap_history\n",
    "\n",
    "\n",
    "def calculate_t_test(run_result_path : str):\n",
    "    if run_result_path == 'run-results\\\\run-1.txt':\n",
    "        return\n",
    "    \n",
    "    baseline_ap = get_ap_history('run-results/run-1.txt')\n",
    "    run_ap = get_ap_history(run_result_path)\n",
    "\n",
    "\n",
    "    print('T-Test: ', ttest_ind(baseline_ap, run_ap))\n",
    "\n",
    "for path in glob('run-results/run*.txt'):\n",
    "    print(path)\n",
    "    calculate_precision_at_k(path, 10)\n",
    "    calculate_precision_at_k(path, 1)\n",
    "    calculate_map(path)\n",
    "    calculate_t_test(path)\n",
    "    print()"
   ]
  }
 ],
 "metadata": {
  "kernelspec": {
   "display_name": "information_retrieval",
   "language": "python",
   "name": "python3"
  },
  "language_info": {
   "codemirror_mode": {
    "name": "ipython",
    "version": 3
   },
   "file_extension": ".py",
   "mimetype": "text/x-python",
   "name": "python",
   "nbconvert_exporter": "python",
   "pygments_lexer": "ipython3",
   "version": "3.8.13"
  },
  "orig_nbformat": 4
 },
 "nbformat": 4,
 "nbformat_minor": 2
}
