{
 "cells": [
  {
   "cell_type": "code",
   "execution_count": 18,
   "metadata": {},
   "outputs": [],
   "source": [
    "import warnings\n",
    "warnings.simplefilter(\"ignore\", UserWarning)\n",
    "import pandas as pd\n",
    "from glob import glob\n",
    "import os\n",
    "from typing import List, Set\n",
    "from statistics import mean\n",
    "from sklearn.metrics import average_precision_score\n",
    "from scipy.stats import ttest_ind\n",
    "import numpy as np\n",
    "import re"
   ]
  },
  {
   "cell_type": "code",
   "execution_count": 9,
   "metadata": {},
   "outputs": [],
   "source": [
    "def get_ground_truth(path : str):\n",
    "    ground_truth = pd.read_csv(path, header=None, names=('Path', 'Score'), sep=',', skipinitialspace=True, quotechar=\"'\")\n",
    "    ground_truth['id'] = ground_truth['Path'].str[:-4]\n",
    "    ground_truth.set_index('id', inplace=True)\n",
    "    return ground_truth\n",
    "    # ground_truth.loc['55-If3ebb17bc7963bfa8d81f040'].Score (=='Off Topic')"
   ]
  },
  {
   "cell_type": "code",
   "execution_count": 47,
   "metadata": {},
   "outputs": [
    {
     "name": "stdout",
     "output_type": "stream",
     "text": [
      "{Pipeline ID} & {Precision@10} & {Precision@1} & {MAP} & {p-value} \\\\\\midrule\n",
      "-1 & 0.127 & 0.130 & 0.097 & 0.000 \\\\\n",
      "0 & 0.141 & 0.170 & 0.100 & 0.911 \\\\\n",
      "1 & 0.115 & 0.120 & 0.084 & 0.602 \\\\\n",
      "2 & 0.090 & 0.106 & 0.113 & 0.621 \\\\\n",
      "3 & 0.122 & 0.110 & 0.096 & 0.956 \\\\\n"
     ]
    }
   ],
   "source": [
    "def calculate_precision_at_k(run_result_path : str, k : int, ground_truth):\n",
    "    df = pd.read_csv(run_result_path, delim_whitespace=True, header=None, names=('QueryId', 'Stance', 'ImageId', 'Score', 'Rank', 'Tag'))\n",
    "    \n",
    "    precision_history = []\n",
    "    for (image_id, stance), results in df.groupby(['QueryId', 'Stance']):\n",
    "        true_positives = 0\n",
    "        for _, row in results.iterrows():\n",
    "            if row['Rank'] > k:\n",
    "                continue\n",
    "\n",
    "            lookup_id = f'{row[\"QueryId\"]}-{row[\"ImageId\"]}'\n",
    "            score = ground_truth.loc[lookup_id].Score\n",
    "            if (stance.lower() == 'pro' and score.lower() == 'pro') or (stance.lower() == 'con' and score.lower() == 'con'):\n",
    "                true_positives += 1\n",
    "        precision_history.append(true_positives/k)\n",
    "    \n",
    "    return mean(precision_history)\n",
    "\n",
    "def calculate_map(run_result_path : str, ground_truth):\n",
    "    ap_history = get_ap_history(run_result_path, ground_truth)\n",
    "    \n",
    "    return mean(ap_history)\n",
    "\n",
    "def get_ap_history(run_result_path : str, ground_truth):\n",
    "    df = pd.read_csv(run_result_path, delim_whitespace=True, header=None, names=('QueryId', 'Stance', 'ImageId', 'Score', 'Rank', 'Tag'))\n",
    "    \n",
    "    ap_history = []\n",
    "    for (query_id, stance), results in df.sort_values(['Rank'], ascending=True).groupby(['QueryId', 'Stance']):\n",
    "        def get_true_score(row : pd.Series):\n",
    "            true_stance = ground_truth.loc[row.LookupId].Score\n",
    "            true_score = int((stance.lower() == 'pro' and true_stance.lower() == 'pro') or (stance.lower() == 'con' and true_stance == 'con'))\n",
    "            return true_score\n",
    "\n",
    "        results['LookupId'] = str(query_id) + '-' + results['ImageId']\n",
    "        results['TrueScore'] = results.apply(get_true_score, axis=1)\n",
    "        ap = average_precision_score(np.array(list(results['TrueScore'])), np.array([1] * len(results['Score'])) )\n",
    "        ap_history.append(ap)\n",
    "    \n",
    "    return ap_history\n",
    "\n",
    "\n",
    "def calculate_t_test(run_result_path : str, ground_truth):\n",
    "    if run_result_path == 'run-results\\\\run-1.txt':\n",
    "        return 0\n",
    "    \n",
    "    baseline_ap = get_ap_history('run-results/run-1.txt', ground_truth)\n",
    "    run_ap = get_ap_history(run_result_path, ground_truth)\n",
    "\n",
    "    return ttest_ind(baseline_ap, run_ap).pvalue\n",
    "\n",
    "\n",
    "print('{Pipeline ID} & {Precision@10} & {Precision@1} & {MAP} & {p-value} \\\\\\\\\\midrule')\n",
    "ground_truth = get_ground_truth('qrel_converted.csv')\n",
    "for path in glob('run-results/run*.txt'):\n",
    "    print(re.search('run(-?\\d*?)\\.txt', path).group(1), end=' & ')\n",
    "    print(f'{calculate_precision_at_k(path, 10, ground_truth):.3f}', end=' & ')\n",
    "    print(f'{calculate_precision_at_k(path, 1, ground_truth):.3f}', end=' & ')\n",
    "    print(f'{calculate_map(path, ground_truth):.3f}', end=' & ')\n",
    "    print(f'{calculate_t_test(path, ground_truth):.3f}', end=' \\\\\\\\\\n')"
   ]
  }
 ],
 "metadata": {
  "kernelspec": {
   "display_name": "information_retrieval",
   "language": "python",
   "name": "python3"
  },
  "language_info": {
   "codemirror_mode": {
    "name": "ipython",
    "version": 3
   },
   "file_extension": ".py",
   "mimetype": "text/x-python",
   "name": "python",
   "nbconvert_exporter": "python",
   "pygments_lexer": "ipython3",
   "version": "3.8.13"
  },
  "orig_nbformat": 4
 },
 "nbformat": 4,
 "nbformat_minor": 2
}
