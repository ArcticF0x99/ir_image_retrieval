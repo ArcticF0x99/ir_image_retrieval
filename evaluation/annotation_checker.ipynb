{
 "cells": [
  {
   "cell_type": "code",
   "execution_count": 1,
   "metadata": {},
   "outputs": [],
   "source": [
    "import pandas as pd\n",
    "import os"
   ]
  },
  {
   "cell_type": "code",
   "execution_count": 23,
   "metadata": {},
   "outputs": [
    {
     "name": "stdout",
     "output_type": "stream",
     "text": [
      "Check http://msmclan.org:8000/projects/1/image-classification?page=19 again\n",
      "Check http://msmclan.org:8000/projects/1/image-classification?page=76 again\n",
      "Check http://msmclan.org:8000/projects/1/image-classification?page=674 again\n",
      "Check http://msmclan.org:8000/projects/1/image-classification?page=901 again\n",
      "Check http://msmclan.org:8000/projects/1/image-classification?page=1029 again\n",
      "Check http://msmclan.org:8000/projects/1/image-classification?page=1442 again\n",
      "Check http://msmclan.org:8000/projects/1/image-classification?page=1744 again\n",
      "Check http://msmclan.org:8000/projects/1/image-classification?page=1748 again\n"
     ]
    }
   ],
   "source": [
    "ID_OFFSET = 104\n",
    "\n",
    "def check_annotation(path : str):\n",
    "    df = pd.read_json(path, lines=True)\n",
    "    df['id'] -= ID_OFFSET - 1\n",
    "\n",
    "    for _, row in df.iterrows():\n",
    "        labels = set(row['label'])\n",
    "        if labels == {'Off Topic'}:\n",
    "            continue\n",
    "        if labels == {'On Topic', 'Neutral'}:\n",
    "            continue\n",
    "        if labels == {'On Topic', 'Con'}:\n",
    "            continue\n",
    "        if labels == {'On Topic', 'Pro'}:\n",
    "            continue\n",
    "\n",
    "        print(f'Check http://msmclan.org:8000/projects/1/image-classification?page={row[\"id\"]} again')\n",
    "\n",
    "\n",
    "check_annotation('annotations/sarahb.jsonl')"
   ]
  },
  {
   "cell_type": "code",
   "execution_count": null,
   "metadata": {},
   "outputs": [],
   "source": []
  }
 ],
 "metadata": {
  "kernelspec": {
   "display_name": "information_retrieval",
   "language": "python",
   "name": "python3"
  },
  "language_info": {
   "codemirror_mode": {
    "name": "ipython",
    "version": 3
   },
   "file_extension": ".py",
   "mimetype": "text/x-python",
   "name": "python",
   "nbconvert_exporter": "python",
   "pygments_lexer": "ipython3",
   "version": "3.8.13"
  },
  "orig_nbformat": 4
 },
 "nbformat": 4,
 "nbformat_minor": 2
}
