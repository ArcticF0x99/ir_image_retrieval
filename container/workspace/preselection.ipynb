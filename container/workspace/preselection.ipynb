{
 "cells": [
  {
   "cell_type": "code",
   "execution_count": 1,
   "id": "85c4b065-d4bd-4f29-9eb3-49597dfa0f32",
   "metadata": {},
   "outputs": [
    {
     "name": "stdout",
     "output_type": "stream",
     "text": [
      "Start PyTerrier with version=5.7, helper_version=0.0.7, no_download=True\n"
     ]
    },
    {
     "name": "stderr",
     "output_type": "stream",
     "text": [
      "PyTerrier 0.9.1 has loaded Terrier 5.7 (built by craigm on 2022-11-10 18:30) and terrier-helper 0.0.7\n",
      "\n",
      "No etc/terrier.properties, using terrier.default.properties for bootstrap configuration.\n"
     ]
    },
    {
     "name": "stdout",
     "output_type": "stream",
     "text": [
      "I will use a small hardcoded example located in /workspace/dataset22/.\n",
      "The output directory is /tmp/\n"
     ]
    }
   ],
   "source": [
    "from tira_utils import get_input_directory_and_output_directory, normalize_run\n",
    "import pyterrier as pt\n",
    "import pandas as pd\n",
    "import os\n",
    "import json\n",
    "from tqdm import tqdm\n",
    "from glob import glob\n",
    "from pathlib import Path\n",
    "\n",
    "SYSTEM_NAME = os.environ.get('TIRA_SYSTEM_NAME' ,'my-retrieval-system')\n",
    "\n",
    "if not pt.started():\n",
    "    # tira_utils above should already have done started pyterrier with this configuration to ensure that no internet connection is required (for reproducibility)\n",
    "    pt.init(version=os.environ['PYTERRIER_VERSION'], helper_version=os.environ['PYTERRIER_HELPER_VERSION'], no_download=True)\n",
    "\n",
    "input_directory, output_directory = get_input_directory_and_output_directory(default_input='/workspace/dataset22/')\n"
   ]
  },
  {
   "cell_type": "code",
   "execution_count": 3,
   "id": "1eb9b2c2-6616-4184-95ea-2c550c9c1986",
   "metadata": {},
   "outputs": [
    {
     "ename": "XMLSyntaxError",
     "evalue": "Start tag expected, '<' not found, line 1, column 1 (<string>, line 1)",
     "output_type": "error",
     "traceback": [
      "Traceback \u001b[0;36m(most recent call last)\u001b[0m:\n",
      "  File \u001b[1;32m\"/opt/conda/lib/python3.7/site-packages/IPython/core/interactiveshell.py\"\u001b[0m, line \u001b[1;32m3457\u001b[0m, in \u001b[1;35mrun_code\u001b[0m\n    exec(code_obj, self.user_global_ns, self.user_ns)\n",
      "  File \u001b[1;32m\"/tmp/ipykernel_16/3286040118.py\"\u001b[0m, line \u001b[1;32m1\u001b[0m, in \u001b[1;35m<module>\u001b[0m\n    pd.read_xml('/workspace/dataset22/topics-task3.xml')\n",
      "  File \u001b[1;32m\"/opt/conda/lib/python3.7/site-packages/pandas/io/xml.py\"\u001b[0m, line \u001b[1;32m938\u001b[0m, in \u001b[1;35mread_xml\u001b[0m\n    storage_options=storage_options,\n",
      "  File \u001b[1;32m\"/opt/conda/lib/python3.7/site-packages/pandas/io/xml.py\"\u001b[0m, line \u001b[1;32m728\u001b[0m, in \u001b[1;35m_parse\u001b[0m\n    data_dicts = p.parse_data()\n",
      "  File \u001b[1;32m\"/opt/conda/lib/python3.7/site-packages/pandas/io/xml.py\"\u001b[0m, line \u001b[1;32m391\u001b[0m, in \u001b[1;35mparse_data\u001b[0m\n    self.xml_doc = XML(self._parse_doc(self.path_or_buffer))\n",
      "  File \u001b[1;32m\"/opt/conda/lib/python3.7/site-packages/pandas/io/xml.py\"\u001b[0m, line \u001b[1;32m554\u001b[0m, in \u001b[1;35m_parse_doc\u001b[0m\n    xml_data.getvalue().encode(self.encoding), parser=curr_parser\n",
      "  File \u001b[1;32m\"src/lxml/etree.pyx\"\u001b[0m, line \u001b[1;32m3254\u001b[0m, in \u001b[1;35mlxml.etree.fromstring\u001b[0m\n",
      "  File \u001b[1;32m\"src/lxml/parser.pxi\"\u001b[0m, line \u001b[1;32m1913\u001b[0m, in \u001b[1;35mlxml.etree._parseMemoryDocument\u001b[0m\n",
      "  File \u001b[1;32m\"src/lxml/parser.pxi\"\u001b[0m, line \u001b[1;32m1800\u001b[0m, in \u001b[1;35mlxml.etree._parseDoc\u001b[0m\n",
      "  File \u001b[1;32m\"src/lxml/parser.pxi\"\u001b[0m, line \u001b[1;32m1141\u001b[0m, in \u001b[1;35mlxml.etree._BaseParser._parseDoc\u001b[0m\n",
      "  File \u001b[1;32m\"src/lxml/parser.pxi\"\u001b[0m, line \u001b[1;32m615\u001b[0m, in \u001b[1;35mlxml.etree._ParserContext._handleParseResultDoc\u001b[0m\n",
      "  File \u001b[1;32m\"src/lxml/parser.pxi\"\u001b[0m, line \u001b[1;32m725\u001b[0m, in \u001b[1;35mlxml.etree._handleParseResult\u001b[0m\n",
      "\u001b[0;36m  File \u001b[0;32m\"src/lxml/parser.pxi\"\u001b[0;36m, line \u001b[0;32m654\u001b[0;36m, in \u001b[0;35mlxml.etree._raiseParseError\u001b[0;36m\u001b[0m\n",
      "\u001b[0;36m  File \u001b[0;32m\"<string>\"\u001b[0;36m, line \u001b[0;32m1\u001b[0m\n\u001b[0;31mXMLSyntaxError\u001b[0m\u001b[0;31m:\u001b[0m Start tag expected, '<' not found, line 1, column 1\n"
     ]
    }
   ],
   "source": [
    "pd.read_xml('/workspace/dataset22/topics-task3.xml')"
   ]
  },
  {
   "cell_type": "code",
   "execution_count": 4,
   "id": "ff6f6586-f276-4474-beff-9bb6ce9e1e3b",
   "metadata": {},
   "outputs": [
    {
     "name": "stdout",
     "output_type": "stream",
     "text": [
      "Step 2: Load the queries.\n"
     ]
    },
    {
     "ename": "ValueError",
     "evalue": "Could not find the file \"/workspace/dataset22/topics-task3.xml\". Got: ['/workspace/dataset22/images', '/workspace/dataset22/topics.xml']",
     "output_type": "error",
     "traceback": [
      "\u001b[0;31m---------------------------------------------------------------------------\u001b[0m",
      "\u001b[0;31mValueError\u001b[0m                                Traceback (most recent call last)",
      "\u001b[0;32m/tmp/ipykernel_16/2114189368.py\u001b[0m in \u001b[0;36m<module>\u001b[0;34m\u001b[0m\n\u001b[1;32m     15\u001b[0m     \u001b[0;32mreturn\u001b[0m \u001b[0mret\u001b[0m\u001b[0;34m\u001b[0m\u001b[0;34m\u001b[0m\u001b[0m\n\u001b[1;32m     16\u001b[0m \u001b[0;34m\u001b[0m\u001b[0m\n\u001b[0;32m---> 17\u001b[0;31m \u001b[0mqueries\u001b[0m \u001b[0;34m=\u001b[0m \u001b[0mload_queries\u001b[0m\u001b[0;34m(\u001b[0m\u001b[0;34m)\u001b[0m\u001b[0;34m\u001b[0m\u001b[0;34m\u001b[0m\u001b[0m\n\u001b[0m\u001b[1;32m     18\u001b[0m \u001b[0mqueries\u001b[0m\u001b[0;34m.\u001b[0m\u001b[0mhead\u001b[0m\u001b[0;34m(\u001b[0m\u001b[0;36m2\u001b[0m\u001b[0;34m)\u001b[0m\u001b[0;34m\u001b[0m\u001b[0;34m\u001b[0m\u001b[0m\n",
      "\u001b[0;32m/tmp/ipykernel_16/2114189368.py\u001b[0m in \u001b[0;36mload_queries\u001b[0;34m()\u001b[0m\n\u001b[1;32m      5\u001b[0m \u001b[0;34m\u001b[0m\u001b[0m\n\u001b[1;32m      6\u001b[0m     \u001b[0;32mif\u001b[0m \u001b[0;32mnot\u001b[0m \u001b[0mos\u001b[0m\u001b[0;34m.\u001b[0m\u001b[0mpath\u001b[0m\u001b[0;34m.\u001b[0m\u001b[0mexists\u001b[0m\u001b[0;34m(\u001b[0m\u001b[0mfile_name\u001b[0m\u001b[0;34m)\u001b[0m\u001b[0;34m:\u001b[0m\u001b[0;34m\u001b[0m\u001b[0;34m\u001b[0m\u001b[0m\n\u001b[0;32m----> 7\u001b[0;31m         \u001b[0;32mraise\u001b[0m \u001b[0mValueError\u001b[0m\u001b[0;34m(\u001b[0m\u001b[0;34mf'Could not find the file \"{file_name}\". Got: {glob(input_directory + \"/*\")}'\u001b[0m\u001b[0;34m)\u001b[0m\u001b[0;34m\u001b[0m\u001b[0;34m\u001b[0m\u001b[0m\n\u001b[0m\u001b[1;32m      8\u001b[0m \u001b[0;34m\u001b[0m\u001b[0m\n\u001b[1;32m      9\u001b[0m     \u001b[0mtopics\u001b[0m \u001b[0;34m=\u001b[0m \u001b[0mpd\u001b[0m\u001b[0;34m.\u001b[0m\u001b[0mread_xml\u001b[0m\u001b[0;34m(\u001b[0m\u001b[0mfile_name\u001b[0m\u001b[0;34m)\u001b[0m\u001b[0;34m\u001b[0m\u001b[0;34m\u001b[0m\u001b[0m\n",
      "\u001b[0;31mValueError\u001b[0m: Could not find the file \"/workspace/dataset22/topics-task3.xml\". Got: ['/workspace/dataset22/images', '/workspace/dataset22/topics.xml']"
     ]
    }
   ],
   "source": [
    "print('Step 2: Load the queries.')\n",
    "\n",
    "def load_queries():\n",
    "    file_name = input_directory + 'topics-task3.xml'\n",
    "    \n",
    "    if not os.path.exists(file_name):\n",
    "        raise ValueError(f'Could not find the file \"{file_name}\". Got: {glob(input_directory + \"/*\")}')\n",
    "    \n",
    "    topics = pd.read_xml(file_name)\n",
    "    \n",
    "    ret = pd.DataFrame()\n",
    "    # https://github.com/terrier-org/pyterrier/issues/62\\n\",\n",
    "    ret['query'] = topics['title'].apply(lambda i: \"\".join([x if x.isalnum() else \" \" for x in i]))\n",
    "    ret['qid'] = topics['number']\n",
    "    return ret\n",
    "\n",
    "queries = load_queries()  \n",
    "queries.head(2)"
   ]
  },
  {
   "cell_type": "markdown",
   "id": "46ded8bf-bd80-4d9b-86cc-33b032fa18d9",
   "metadata": {},
   "source": [
    "### Step 3: Index the images"
   ]
  },
  {
   "cell_type": "code",
   "execution_count": 40,
   "id": "f40b48ee-938d-4122-b937-fd44d695f479",
   "metadata": {},
   "outputs": [
    {
     "name": "stdout",
     "output_type": "stream",
     "text": [
      "Step 3: Create the Index.\n"
     ]
    },
    {
     "name": "stderr",
     "output_type": "stream",
     "text": [
      "796it [00:07, 99.71it/s] "
     ]
    }
   ],
   "source": [
    "print('Step 3: Create the Index.')\n",
    "\n",
    "# We use some very baseline method to get a textual representation: we just use the text of the pages that contain the image.\n",
    "def load_image_text(image_id):\n",
    "    ret = ''\n",
    "    \n",
    "    for txt_file in glob(input_directory +'/images/' + image_id[:3] + '/' + image_id + '/*/*/*/text.txt'):\n",
    "        ret += '\\n\\n' + open(txt_file).read()\n",
    "        \n",
    "    return ret.strip()\n",
    "\n",
    "def all_images():\n",
    "    for i in glob(input_directory + '/images/*/*'):\n",
    "        image_id = i.split('/')[-1]\n",
    "        yield {'docno': image_id, 'text': load_image_text(image_id)}\n",
    "\n",
    "\n",
    "!rm -Rf ./index\n",
    "iter_indexer = pt.IterDictIndexer(\"./index\", meta={'docno': 20, 'text': 4096})\n",
    "index_ref = iter_indexer.index(tqdm(all_images()))\n"
   ]
  },
  {
   "cell_type": "code",
   "execution_count": 50,
   "id": "7ea82506-2c35-4aac-ad95-8e76291bb37a",
   "metadata": {},
   "outputs": [
    {
     "name": "stdout",
     "output_type": "stream",
     "text": [
      "Step 5: Define the Pipeline.\n"
     ]
    }
   ],
   "source": [
    "print('Step 5: Define the Pipeline.')\n",
    "\n",
    "retrieval_pipeline = pt.BatchRetrieve(index_ref, wmodel=\"BM25\", verbose=True, num_results=50)"
   ]
  },
  {
   "cell_type": "code",
   "execution_count": 51,
   "id": "b87f0b51-825a-4a7e-a104-fdb51026915c",
   "metadata": {},
   "outputs": [
    {
     "name": "stdout",
     "output_type": "stream",
     "text": [
      "Step 6: Create Run.\n"
     ]
    },
    {
     "name": "stderr",
     "output_type": "stream",
     "text": [
      "BR(BM25): 100%|█████████████████████████████████████████████████████████████████████████████████████████████████████████████████████████████████████████████████| 50/50 [00:01<00:00, 37.83q/s]\n"
     ]
    }
   ],
   "source": [
    "print('Step 6: Create Run.')\n",
    "run = retrieval_pipeline(queries)"
   ]
  },
  {
   "cell_type": "code",
   "execution_count": 52,
   "id": "f8a3966e-7e56-44b0-af80-f060dd24ce3e",
   "metadata": {},
   "outputs": [
    {
     "data": {
      "text/html": [
       "<div>\n",
       "<style scoped>\n",
       "    .dataframe tbody tr th:only-of-type {\n",
       "        vertical-align: middle;\n",
       "    }\n",
       "\n",
       "    .dataframe tbody tr th {\n",
       "        vertical-align: top;\n",
       "    }\n",
       "\n",
       "    .dataframe thead th {\n",
       "        text-align: right;\n",
       "    }\n",
       "</style>\n",
       "<table border=\"1\" class=\"dataframe\">\n",
       "  <thead>\n",
       "    <tr style=\"text-align: right;\">\n",
       "      <th></th>\n",
       "      <th>qid</th>\n",
       "      <th>docid</th>\n",
       "      <th>docno</th>\n",
       "      <th>rank</th>\n",
       "      <th>score</th>\n",
       "      <th>query</th>\n",
       "    </tr>\n",
       "  </thead>\n",
       "  <tbody>\n",
       "    <tr>\n",
       "      <th>0</th>\n",
       "      <td>51</td>\n",
       "      <td>23091</td>\n",
       "      <td>If7d63a15a4211a5a</td>\n",
       "      <td>0</td>\n",
       "      <td>7.471291</td>\n",
       "      <td>Do we need sex education in schools</td>\n",
       "    </tr>\n",
       "    <tr>\n",
       "      <th>1</th>\n",
       "      <td>51</td>\n",
       "      <td>15151</td>\n",
       "      <td>Ia2f5cc1208c1e1b5</td>\n",
       "      <td>1</td>\n",
       "      <td>7.398296</td>\n",
       "      <td>Do we need sex education in schools</td>\n",
       "    </tr>\n",
       "    <tr>\n",
       "      <th>2</th>\n",
       "      <td>51</td>\n",
       "      <td>12991</td>\n",
       "      <td>I8ba6d96fdccde470</td>\n",
       "      <td>2</td>\n",
       "      <td>7.254978</td>\n",
       "      <td>Do we need sex education in schools</td>\n",
       "    </tr>\n",
       "    <tr>\n",
       "      <th>3</th>\n",
       "      <td>51</td>\n",
       "      <td>8355</td>\n",
       "      <td>I5990ed8586db98b9</td>\n",
       "      <td>3</td>\n",
       "      <td>7.112157</td>\n",
       "      <td>Do we need sex education in schools</td>\n",
       "    </tr>\n",
       "    <tr>\n",
       "      <th>4</th>\n",
       "      <td>51</td>\n",
       "      <td>7792</td>\n",
       "      <td>I534bab561f11daff</td>\n",
       "      <td>4</td>\n",
       "      <td>7.093402</td>\n",
       "      <td>Do we need sex education in schools</td>\n",
       "    </tr>\n",
       "    <tr>\n",
       "      <th>...</th>\n",
       "      <td>...</td>\n",
       "      <td>...</td>\n",
       "      <td>...</td>\n",
       "      <td>...</td>\n",
       "      <td>...</td>\n",
       "      <td>...</td>\n",
       "    </tr>\n",
       "    <tr>\n",
       "      <th>2495</th>\n",
       "      <td>100</td>\n",
       "      <td>13325</td>\n",
       "      <td>I8f23cd947354c9b7</td>\n",
       "      <td>45</td>\n",
       "      <td>6.467451</td>\n",
       "      <td>Do we need cash</td>\n",
       "    </tr>\n",
       "    <tr>\n",
       "      <th>2496</th>\n",
       "      <td>100</td>\n",
       "      <td>6576</td>\n",
       "      <td>I463fab00c7efa7fd</td>\n",
       "      <td>46</td>\n",
       "      <td>6.451252</td>\n",
       "      <td>Do we need cash</td>\n",
       "    </tr>\n",
       "    <tr>\n",
       "      <th>2497</th>\n",
       "      <td>100</td>\n",
       "      <td>20930</td>\n",
       "      <td>Ie0ef788113c4bae7</td>\n",
       "      <td>47</td>\n",
       "      <td>6.451252</td>\n",
       "      <td>Do we need cash</td>\n",
       "    </tr>\n",
       "    <tr>\n",
       "      <th>2498</th>\n",
       "      <td>100</td>\n",
       "      <td>2902</td>\n",
       "      <td>I1ed98cb37676b90f</td>\n",
       "      <td>48</td>\n",
       "      <td>6.440203</td>\n",
       "      <td>Do we need cash</td>\n",
       "    </tr>\n",
       "    <tr>\n",
       "      <th>2499</th>\n",
       "      <td>100</td>\n",
       "      <td>12928</td>\n",
       "      <td>I8acb0e76e6fd991d</td>\n",
       "      <td>49</td>\n",
       "      <td>6.439304</td>\n",
       "      <td>Do we need cash</td>\n",
       "    </tr>\n",
       "  </tbody>\n",
       "</table>\n",
       "<p>2500 rows × 6 columns</p>\n",
       "</div>"
      ],
      "text/plain": [
       "      qid  docid              docno  rank     score  \\\n",
       "0      51  23091  If7d63a15a4211a5a     0  7.471291   \n",
       "1      51  15151  Ia2f5cc1208c1e1b5     1  7.398296   \n",
       "2      51  12991  I8ba6d96fdccde470     2  7.254978   \n",
       "3      51   8355  I5990ed8586db98b9     3  7.112157   \n",
       "4      51   7792  I534bab561f11daff     4  7.093402   \n",
       "...   ...    ...                ...   ...       ...   \n",
       "2495  100  13325  I8f23cd947354c9b7    45  6.467451   \n",
       "2496  100   6576  I463fab00c7efa7fd    46  6.451252   \n",
       "2497  100  20930  Ie0ef788113c4bae7    47  6.451252   \n",
       "2498  100   2902  I1ed98cb37676b90f    48  6.440203   \n",
       "2499  100  12928  I8acb0e76e6fd991d    49  6.439304   \n",
       "\n",
       "                                     query  \n",
       "0     Do we need sex education in schools   \n",
       "1     Do we need sex education in schools   \n",
       "2     Do we need sex education in schools   \n",
       "3     Do we need sex education in schools   \n",
       "4     Do we need sex education in schools   \n",
       "...                                    ...  \n",
       "2495                      Do we need cash   \n",
       "2496                      Do we need cash   \n",
       "2497                      Do we need cash   \n",
       "2498                      Do we need cash   \n",
       "2499                      Do we need cash   \n",
       "\n",
       "[2500 rows x 6 columns]"
      ]
     },
     "execution_count": 52,
     "metadata": {},
     "output_type": "execute_result"
    }
   ],
   "source": [
    "run"
   ]
  }
 ],
 "metadata": {
  "kernelspec": {
   "display_name": "Python 3 (ipykernel)",
   "language": "python",
   "name": "python3"
  },
  "language_info": {
   "codemirror_mode": {
    "name": "ipython",
    "version": 3
   },
   "file_extension": ".py",
   "mimetype": "text/x-python",
   "name": "python",
   "nbconvert_exporter": "python",
   "pygments_lexer": "ipython3",
   "version": "3.7.13"
  }
 },
 "nbformat": 4,
 "nbformat_minor": 5
}
