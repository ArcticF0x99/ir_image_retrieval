{
 "cells": [
  {
   "cell_type": "code",
   "execution_count": 7,
   "id": "424c85fc-a075-45d0-9a76-70b94b38f337",
   "metadata": {
    "collapsed": true,
    "jupyter": {
     "outputs_hidden": true
    },
    "tags": []
   },
   "outputs": [
    {
     "name": "stdout",
     "output_type": "stream",
     "text": [
      "Requirement already satisfied: transformers in /opt/conda/lib/python3.7/site-packages (4.26.0)\n",
      "Collecting accelerate\n",
      "  Downloading accelerate-0.16.0-py3-none-any.whl (199 kB)\n",
      "\u001b[K     |████████████████████████████████| 199 kB 3.6 MB/s eta 0:00:01     |████████████████████████▋       | 153 kB 3.6 MB/s eta 0:00:01\n",
      "\u001b[?25hRequirement already satisfied: optimum in /opt/conda/lib/python3.7/site-packages (1.6.3)\n",
      "Requirement already satisfied: numpy>=1.17 in /opt/conda/lib/python3.7/site-packages (from transformers) (1.21.5)\n",
      "Requirement already satisfied: regex!=2019.12.17 in /opt/conda/lib/python3.7/site-packages (from transformers) (2022.10.31)\n",
      "Requirement already satisfied: tokenizers!=0.11.3,<0.14,>=0.11.1 in /opt/conda/lib/python3.7/site-packages (from transformers) (0.13.2)\n",
      "Requirement already satisfied: pyyaml>=5.1 in /opt/conda/lib/python3.7/site-packages (from transformers) (6.0)\n",
      "Requirement already satisfied: tqdm>=4.27 in /opt/conda/lib/python3.7/site-packages (from transformers) (4.63.0)\n",
      "Requirement already satisfied: packaging>=20.0 in /opt/conda/lib/python3.7/site-packages (from transformers) (21.3)\n",
      "Requirement already satisfied: importlib-metadata in /opt/conda/lib/python3.7/site-packages (from transformers) (5.0.0)\n",
      "Requirement already satisfied: huggingface-hub<1.0,>=0.11.0 in /opt/conda/lib/python3.7/site-packages (from transformers) (0.12.0)\n",
      "Requirement already satisfied: filelock in /opt/conda/lib/python3.7/site-packages (from transformers) (3.6.0)\n",
      "Requirement already satisfied: requests in /opt/conda/lib/python3.7/site-packages (from transformers) (2.27.1)\n",
      "Requirement already satisfied: psutil in /opt/conda/lib/python3.7/site-packages (from accelerate) (5.8.0)\n",
      "Requirement already satisfied: torch>=1.4.0 in /opt/conda/lib/python3.7/site-packages (from accelerate) (1.12.0)\n",
      "Requirement already satisfied: coloredlogs in /opt/conda/lib/python3.7/site-packages (from optimum) (15.0.1)\n",
      "Requirement already satisfied: sympy in /opt/conda/lib/python3.7/site-packages (from optimum) (1.10.1)\n",
      "Requirement already satisfied: typing-extensions>=3.7.4.3 in /opt/conda/lib/python3.7/site-packages (from huggingface-hub<1.0,>=0.11.0->transformers) (4.1.1)\n",
      "Requirement already satisfied: pyparsing!=3.0.5,>=2.0.2 in /opt/conda/lib/python3.7/site-packages (from packaging>=20.0->transformers) (3.0.9)\n",
      "Requirement already satisfied: sentencepiece!=0.1.92,>=0.1.91 in /opt/conda/lib/python3.7/site-packages (from transformers) (0.1.97)\n",
      "Requirement already satisfied: protobuf<=3.20.2 in /opt/conda/lib/python3.7/site-packages (from transformers) (3.20.2)\n",
      "Requirement already satisfied: humanfriendly>=9.1 in /opt/conda/lib/python3.7/site-packages (from coloredlogs->optimum) (10.0)\n",
      "Requirement already satisfied: zipp>=0.5 in /opt/conda/lib/python3.7/site-packages (from importlib-metadata->transformers) (3.10.0)\n",
      "Requirement already satisfied: idna<4,>=2.5 in /opt/conda/lib/python3.7/site-packages (from requests->transformers) (3.3)\n",
      "Requirement already satisfied: charset-normalizer~=2.0.0 in /opt/conda/lib/python3.7/site-packages (from requests->transformers) (2.0.4)\n",
      "Requirement already satisfied: urllib3<1.27,>=1.21.1 in /opt/conda/lib/python3.7/site-packages (from requests->transformers) (1.26.8)\n",
      "Requirement already satisfied: certifi>=2017.4.17 in /opt/conda/lib/python3.7/site-packages (from requests->transformers) (2022.6.15)\n",
      "Requirement already satisfied: mpmath>=0.19 in /opt/conda/lib/python3.7/site-packages (from sympy->optimum) (1.2.1)\n",
      "Installing collected packages: accelerate\n",
      "Successfully installed accelerate-0.16.0\n",
      "\u001b[33mWARNING: Running pip as the 'root' user can result in broken permissions and conflicting behaviour with the system package manager. It is recommended to use a virtual environment instead: https://pip.pypa.io/warnings/venv\u001b[0m\n"
     ]
    }
   ],
   "source": [
    "!pip install transformers accelerate optimum\n",
    "#https://huggingface.co/docs/optimum/bettertransformer/tutorials/convert"
   ]
  },
  {
   "cell_type": "code",
   "execution_count": 14,
   "id": "5b9582d3-d7f8-40c5-9e96-093365b3b1e7",
   "metadata": {},
   "outputs": [
    {
     "name": "stdout",
     "output_type": "stream",
     "text": [
      "Looking in indexes: https://pypi.org/simple, https://download.pytorch.org/whl/cu116\n",
      "Requirement already satisfied: torch in /opt/conda/lib/python3.7/site-packages (1.12.0)\n",
      "Requirement already satisfied: torchvision in /opt/conda/lib/python3.7/site-packages (0.13.0)\n",
      "Collecting torchaudio\n",
      "  Using cached https://download.pytorch.org/whl/cu116/torchaudio-0.13.1%2Bcu116-cp37-cp37m-linux_x86_64.whl (4.2 MB)\n",
      "Requirement already satisfied: typing_extensions in /opt/conda/lib/python3.7/site-packages (from torch) (4.1.1)\n",
      "Requirement already satisfied: numpy in /opt/conda/lib/python3.7/site-packages (from torchvision) (1.21.5)\n",
      "Requirement already satisfied: requests in /opt/conda/lib/python3.7/site-packages (from torchvision) (2.27.1)\n",
      "Requirement already satisfied: pillow!=8.3.*,>=5.3.0 in /opt/conda/lib/python3.7/site-packages (from torchvision) (9.0.1)\n",
      "Collecting torch\n",
      "  Downloading https://download.pytorch.org/whl/cu116/torch-1.13.1%2Bcu116-cp37-cp37m-linux_x86_64.whl (1978.0 MB)\n",
      "\u001b[K     |████████████████████████████████| 1978.0 MB 5.0 kB/s eta 0:00:017:22:004                            | 45.3 MB 3.0 MB/s eta 0:10:40     |█                               | 64.6 MB 5.0 MB/s eta 0:06:23     |█▏                              | 70.4 MB 5.0 MB/s eta 0:06:20     |█▉                              | 115.9 MB 70 kB/s eta 7:21:27                       | 132.3 MB 24 kB/s eta 21:02:24     |██▎                             | 138.6 MB 88 kB/s eta 5:47:47     |██▍                             | 144.7 MB 97 kB/s eta 5:14:37     |██▉                             | 173.1 MB 60 kB/s eta 8:21:06     |███▎                            | 203.4 MB 100 kB/s eta 4:55:45     |███▌                            | 219.5 MB 6.2 MB/s eta 0:04:43     |███▊                            | 229.8 MB 16 kB/s eta 1 day, 5:09:40     |███▊                            | 232.5 MB 57 kB/s eta 8:25:07     |████                            | 253.3 MB 105 kB/s eta 4:33:00     |████▌                           | 278.4 MB 37 kB/s eta 12:42:55     |█████                           | 303.5 MB 65 kB/s eta 7:05:53     |█████▊                          | 354.9 MB 33 kB/s eta 13:30:32     |█████▊                          | 356.0 MB 33 kB/s eta 13:29:59     |██████▎                         | 385.1 MB 53 kB/s eta 8:14:48██▌                         | 403.1 MB 87 kB/s eta 4:58:51     |███████                         | 436.1 MB 92 kB/s eta 4:37:46     |███████▍                        | 458.6 MB 3.8 MB/s eta 0:06:39     |████████                        | 497.8 MB 20 kB/s eta 19:39:30     |████████▎                       | 508.9 MB 86 kB/s eta 4:42:19     |████████▋                       | 532.0 MB 76 kB/s eta 5:14:17     |█████████                       | 552.4 MB 61 kB/s eta 6:23:15     |█████████▍                      | 581.3 MB 5.8 MB/s eta 0:04:03     |█████████▋                      | 592.5 MB 8.2 MB/s eta 0:02:50     |█████████▉                      | 606.8 MB 105 kB/s eta 3:37:39��████▋                     | 655.5 MB 64 kB/s eta 5:41:37     |██████████▋                     | 658.4 MB 10 kB/s eta 1 day, 10:09:37     |███████████                     | 674.6 MB 77 kB/s eta 4:38:59     |███████████                     | 680.7 MB 5.0 kB/s eta 2 days, 23:33:15     |███████████                     | 683.3 MB 293 kB/s eta 1:13:38     |███████████▎                    | 695.9 MB 41 kB/s eta 8:35:04     |███████████▋                    | 714.8 MB 42 kB/s eta 8:16:26     |███████████▊                    | 727.5 MB 79 kB/s eta 4:23:32     |████████████▎                   | 755.9 MB 39 kB/s eta 8:37:33     |████████████▋                   | 780.1 MB 6.0 MB/s eta 0:03:20     |████████████▉                   | 790.0 MB 90 kB/s eta 3:39:29     |█████████████                   | 805.7 MB 103 kB/s eta 3:08:39     |█████████████▏                  | 815.1 MB 5.2 MB/s eta 0:03:44     |█████████████▍                  | 825.8 MB 4.7 MB/s eta 0:04:06     |█████████████▋                  | 840.2 MB 4.5 MB/s eta 0:04:16     |█████████████▊                  | 850.5 MB 4.2 MB/s eta 0:04:31     |██████████████                  | 868.9 MB 6.6 MB/s eta 0:02:47     |██████████████▉                 | 913.7 MB 3.4 MB/s eta 0:05:11     |██████████████▉                 | 916.2 MB 7.2 MB/s eta 0:02:27     |██████████████▉                 | 920.2 MB 7.2 MB/s eta 0:02:27     |███████████████                 | 928.6 MB 4.2 MB/s eta 0:04:08     |███████████████▍                | 948.2 MB 4.6 MB/s eta 0:03:47     |███████████████▍                | 951.4 MB 7.6 MB/s eta 0:02:16     |███████████████▌                | 956.7 MB 6.3 MB/s eta 0:02:41     |███████████████▌                | 958.9 MB 6.3 MB/s eta 0:02:41     |████████████████                | 985.2 MB 9.6 MB/s eta 0:01:44     |████████████████▏               | 1001.7 MB 7.1 MB/s eta 0:02:17  | 1016.2 MB 82 kB/s eta 3:14:21��▌               | 1017.3 MB 3.7 MB/s eta 0:04:23     |████████████████▉               | 1039.0 MB 2.0 MB/s eta 0:07:40  | 1053.4 MB 58 kB/s eta 4:22:26  | 1055.4 MB 58 kB/s eta 4:21:52     |█████████████████▌              | 1080.8 MB 2.7 MB/s eta 0:05:36     |██████████████████              | 1110.8 MB 6.9 MB/s eta 0:02:07     |██████████████████▌             | 1145.1 MB 12.4 MB/s eta 0:01:08[K     |██████████████████▋             | 1152.0 MB 65 kB/s eta 3:29:40     |██████████████████▊             | 1154.4 MB 65 kB/s eta 3:29:04[K     |███████████████████             | 1171.7 MB 83 kB/s eta 2:40:06     |███████████████████             | 1173.7 MB 44 kB/s eta 5:01:04��█▌            | 1208.3 MB 2.3 MB/s eta 0:05:37     |████████████████████            | 1237.1 MB 2.8 MB/s eta 0:04:25██████████████▏           | 1244.6 MB 1.3 MB/s eta 0:09:17�████████▍           | 1260.3 MB 64 kB/s eta 3:04:51     |████████████████████▌           | 1265.3 MB 65 kB/s eta 3:01:23     |████████████████████▊           | 1279.1 MB 6.9 MB/s eta 0:01:42     |█████████████████████           | 1297.2 MB 101 kB/s eta 1:51:52     |█████████████████████           | 1298.6 MB 24 kB/s eta 7:45:01     |█████████████████████▌          | 1326.6 MB 903 kB/s eta 0:12:01     |█████████████████████▌          | 1330.0 MB 1.4 MB/s eta 0:07:44     |██████████████████████▍         | 1381.5 MB 52 kB/s eta 3:08:16     |██████████████████████▌         | 1389.6 MB 69 kB/s eta 2:20:56     |██████████████████████▊         | 1404.3 MB 2.3 MB/s eta 0:04:09     |███████████████████████         | 1424.7 MB 2.1 MB/s eta 0:04:19     |███████████████████████▎        | 1441.6 MB 1.5 MB/s eta 0:05:57     |███████████████████████▍        | 1448.5 MB 1.9 MB/s eta 0:04:39     |███████████████████████▌        | 1450.0 MB 1.9 MB/s eta 0:04:38�███████████        | 1479.0 MB 1.6 MB/s eta 0:05:20     |████████████████████████        | 1482.5 MB 73 kB/s eta 1:52:26██████████████████████▏       | 1491.9 MB 2.2 MB/s eta 0:03:44��████████████████▏       | 1494.4 MB 78 kB/s eta 1:42:36██████████████████████▎       | 1498.4 MB 2.7 MB/s eta 0:03:00██████████████████████▎       | 1501.2 MB 564 kB/s eta 0:14:05     |████████████████████████▌       | 1515.0 MB 2.7 MB/s eta 0:02:55     |████████████████████████▌       | 1517.4 MB 2.4 MB/s eta 0:03:09��████████████████▋       | 1519.7 MB 79 kB/s eta 1:36:08��████████████████▋       | 1521.5 MB 79 kB/s eta 1:35:45     |████████████████████████▊       | 1525.8 MB 27 kB/s eta 4:34:05     |████████████████████████▉       | 1536.8 MB 1.9 MB/s eta 0:03:55     |█████████████████████████▌      | 1575.3 MB 77 kB/s eta 1:26:39     |██████████████████████████      | 1607.9 MB 67 kB/s eta 1:31:10     |██████████████████████████▌     | 1640.9 MB 2.7 MB/s eta 0:02:06     |██████████████████████████▊     | 1650.1 MB 2.9 MB/s eta 0:01:55     |██████████████████████████▉     | 1661.9 MB 8.2 MB/s eta 0:00:39     |███████████████████████████     | 1673.8 MB 70 kB/s eta 1:11:26     |███████████████████████████▏    | 1676.3 MB 70 kB/s eta 1:10:51     |███████████████████████████▉    | 1717.6 MB 41 kB/s eta 1:44:02     |████████████████████████████▏   | 1740.5 MB 20 kB/s eta 3:11:46     |████████████████████████████▎   | 1746.8 MB 24 kB/s eta 2:36:03     |████████████████████████████▎   | 1749.8 MB 5.3 MB/s eta 0:00:44     |████████████████████████████▍   | 1753.1 MB 75 kB/s eta 0:49:25     |████████████████████████████▊   | 1777.3 MB 45 kB/s eta 1:14:17     |█████████████████████████████   | 1788.0 MB 18 kB/s eta 2:51:39     |█████████████████████████████▎  | 1809.0 MB 86 kB/s eta 0:32:26     |█████████████████████████████▎  | 1813.0 MB 2.9 MB/s eta 0:00:58     |█████████████████████████████▉  | 1843.1 MB 25 kB/s eta 1:26:44     |██████████████████████████████▏ | 1866.0 MB 41 kB/s eta 0:44:47.7 MB 92 kB/s eta 0:19:22.4 MB 27 kB/s eta 1:02:17     |██████████████████████████████▍ | 1877.3 MB 27 kB/s eta 0:59:58     |██████████████████████████████▋ | 1889.3 MB 85 kB/s eta 0:17:17     |███████████████████████████████ | 1916.9 MB 6.4 MB/s eta 0:00:10     |███████████████████████████████ | 1918.9 MB 3.0 MB/s eta 0:00:20     |███████████████████████████████▎| 1935.2 MB 6.0 MB/s eta 0:00:08     |███████████████████████████████▋| 1951.9 MB 6.3 MB/s eta 0:00:05     |███████████████████████████████▊| 1959.5 MB 4.8 MB/s eta 0:00:04\n",
      "\u001b[?25hRequirement already satisfied: idna<4,>=2.5 in /opt/conda/lib/python3.7/site-packages (from requests->torchvision) (3.3)\n",
      "Requirement already satisfied: certifi>=2017.4.17 in /opt/conda/lib/python3.7/site-packages (from requests->torchvision) (2022.6.15)\n",
      "Requirement already satisfied: charset-normalizer~=2.0.0 in /opt/conda/lib/python3.7/site-packages (from requests->torchvision) (2.0.4)\n",
      "Requirement already satisfied: urllib3<1.27,>=1.21.1 in /opt/conda/lib/python3.7/site-packages (from requests->torchvision) (1.26.8)\n",
      "Installing collected packages: torch, torchaudio\n",
      "  Attempting uninstall: torch\n",
      "    Found existing installation: torch 1.12.0\n",
      "    Uninstalling torch-1.12.0:\n",
      "      Successfully uninstalled torch-1.12.0\n",
      "Successfully installed torch-1.13.1+cu116 torchaudio-0.13.1+cu116\n",
      "\u001b[33mWARNING: Running pip as the 'root' user can result in broken permissions and conflicting behaviour with the system package manager. It is recommended to use a virtual environment instead: https://pip.pypa.io/warnings/venv\u001b[0m\n"
     ]
    }
   ],
   "source": [
    "!pip install torch torchvision torchaudio --extra-index-url https://download.pytorch.org/whl/cu116"
   ]
  },
  {
   "cell_type": "code",
   "execution_count": 8,
   "id": "48c5ea23-0a96-41b7-8fb3-1acc1b845968",
   "metadata": {
    "tags": []
   },
   "outputs": [],
   "source": [
    "# import python directory\n",
    "from transformers import pipeline\n",
    "from tqdm import tqdm\n",
    "from glob import glob\n",
    "import os\n",
    "from optimum.bettertransformer import BetterTransformer\n",
    "from transformers import AutoModelForSequenceClassification, AutoModel\n"
   ]
  },
  {
   "cell_type": "code",
   "execution_count": 11,
   "id": "c159e7d1-8e5c-4aa7-9af0-c1afa9c10974",
   "metadata": {},
   "outputs": [],
   "source": [
    "#bart_model = AutoModelForSequenceClassification.from_pretrained('facebook/bart-large-mnli')\n",
    "#https://huggingface.co/facebook/bart-large-mnli\n",
    "# set model to GPU https://huggingface.co/docs/optimum/bettertransformer/tutorials/convert\n",
    "#model = bart_model.to(0) # or model.to(\"cuda:0\")\n",
    "#model = BetterTransformer.transform(bart_model)"
   ]
  },
  {
   "cell_type": "code",
   "execution_count": null,
   "id": "dd4c1250-e82e-4420-ad42-ffe8e126cbad",
   "metadata": {},
   "outputs": [],
   "source": []
  },
  {
   "cell_type": "code",
   "execution_count": null,
   "id": "f034c79c-dad5-4a3b-ad8e-3f74482f27f6",
   "metadata": {},
   "outputs": [],
   "source": []
  },
  {
   "cell_type": "code",
   "execution_count": null,
   "id": "1a22c9b0-728b-49a4-be62-a9ad1f15eebf",
   "metadata": {},
   "outputs": [
    {
     "name": "stderr",
     "output_type": "stream",
     "text": [
      "Downloading (…)okenizer_config.json: 100%|███████████████████████████████████████████| 26.0/26.0 [00:00<00:00, 8.47kB/s]\n",
      "Downloading (…)olve/main/vocab.json: 100%|████████████████████████████████████████████| 899k/899k [00:01<00:00, 809kB/s]\n",
      "Downloading (…)olve/main/merges.txt: 100%|████████████████████████████████████████████| 456k/456k [00:00<00:00, 478kB/s]\n",
      "Downloading (…)/main/tokenizer.json: 100%|██████████████████████████████████████████| 1.36M/1.36M [00:02<00:00, 668kB/s]\n"
     ]
    }
   ],
   "source": [
    "# or this should work, too\n",
    "classifier = pipeline(\"zero-shot-classification\", model='facebook/bart-large-mnli', accelerator=\"bettertransformer\", device=0)"
   ]
  },
  {
   "cell_type": "code",
   "execution_count": 5,
   "id": "262ed114-4803-4f52-a6ce-969f576a5ff2",
   "metadata": {},
   "outputs": [],
   "source": [
    "input_directory, output_directory = '/workspace/dataset22/', '/workspace/dataset22/'"
   ]
  },
  {
   "cell_type": "code",
   "execution_count": 28,
   "id": "c8f2176a-a672-4383-bb46-fb4a3662fc69",
   "metadata": {},
   "outputs": [],
   "source": [
    "# load image text\n",
    "# We use some very baseline method to get a textual representation: we just use the text of the pages that contain the image.\n",
    "def load_image_text(image_id):\n",
    "    ret = ''\n",
    "    for txt_file in glob(input_directory +'/images/' + image_id[:3] + '/' + image_id + '/*/*/*/text.txt'):\n",
    "        ret += '\\n\\n' + open(txt_file).read()\n",
    "    return ret.strip()\n",
    "\n",
    "def load_queries():\n",
    "    file_name = input_directory + 'topics-task3.xml'\n",
    "    \n",
    "    if not os.path.exists(file_name):\n",
    "        raise ValueError(f'Could not find the file \"{file_name}\". Got: {glob(input_directory + \"/*\")}')\n",
    "    \n",
    "    topics = pd.read_xml(file_name)\n",
    "    \n",
    "    ret = pd.DataFrame()\n",
    "    # https://github.com/terrier-org/pyterrier/issues/62\\n\",\n",
    "    ret['query'] = topics['title'].apply(lambda i: \"\".join([x if x.isalnum() else \" \" for x in i]))\n",
    "    ret['qid'] = topics['number']\n",
    "    return ret\n",
    "\n",
    "\n",
    "def determine_stance(text, query):\n",
    "    labels = [\"contra \"+ query, \"pro \"+ query, \"neutral \"+ query]\n",
    "    result = classifier(text, labels)\n",
    "    # sorts the labels starting with the most likely\n",
    "    if result[\"labels\"][0].startswith(\"contra\"):\n",
    "        return \"contra\", result[\"scores\"][0]\n",
    "    elif result[\"labels\"][0].startswith(\"pro\"):\n",
    "        return \"pro\", result[\"scores\"][0]\n",
    "    else: \n",
    "        return \"neutral\", result[\"scores\"][0]\n",
    "    \n",
    "\n",
    "def detect_stance_for_image_ids_and_return_best_x_results_for_each_side(image_ids, query, x):\n",
    "    # get image ids from preranking\n",
    "    # get image texts based on preranking \n",
    "    pro_imgs = {}\n",
    "    contra_imgs = {}\n",
    "    for image_id in image_ids:\n",
    "        text = load_image_text(image_id)\n",
    "        # deploy model\n",
    "        stance, score = determine_stance(text, query)\n",
    "        print(image_id, stance, score)\n",
    "        # separate pro and con texts; sort out neutral texts\n",
    "        if stance == \"pro\":\n",
    "            pro_imgs[image_id] = score\n",
    "        elif stance == \"contra\": \n",
    "            contra_imgs[image_id] = score\n",
    "        # sort according to scores\n",
    "        sorted_pro = dict(sorted(pro_imgs.items(), key=lambda x:x[1], reverse=True))\n",
    "        sorted_contra = dict(sorted(contra_imgs.items(), key=lambda x:x[1], reverse=True))\n",
    "        # return best x results for each side\n",
    "        pro_ids = []\n",
    "        contra_ids = []\n",
    "        i = 0\n",
    "        for key in sorted_pro:\n",
    "            if i < len(sorted_pro.keys()) and i < x:\n",
    "                pro_ids.append(key)\n",
    "            else: \n",
    "                break\n",
    "            i += 1\n",
    "        i = 0\n",
    "        for key in sorted_contra:\n",
    "            if i < len(sorted_contra.keys()) and i < x:\n",
    "                contra_ids.append(key)\n",
    "            else: \n",
    "                break\n",
    "            i += 1\n",
    "    return pro_ids, contra_ids\n",
    "# not sorted right\n"
   ]
  },
  {
   "cell_type": "code",
   "execution_count": 24,
   "id": "d24439c5-d821-4176-9ec0-4af11318653b",
   "metadata": {},
   "outputs": [
    {
     "ename": "KeyError",
     "evalue": "0",
     "output_type": "error",
     "traceback": [
      "\u001b[0;31m---------------------------------------------------------------------------\u001b[0m",
      "\u001b[0;31mKeyError\u001b[0m                                  Traceback (most recent call last)",
      "\u001b[0;32m/tmp/ipykernel_15/562382787.py\u001b[0m in \u001b[0;36m<module>\u001b[0;34m\u001b[0m\n\u001b[1;32m      1\u001b[0m \u001b[0md\u001b[0m \u001b[0;34m=\u001b[0m \u001b[0;34m{\u001b[0m\u001b[0;34m\"a\"\u001b[0m\u001b[0;34m:\u001b[0m \u001b[0;36m45\u001b[0m\u001b[0;34m}\u001b[0m\u001b[0;34m\u001b[0m\u001b[0;34m\u001b[0m\u001b[0m\n\u001b[0;32m----> 2\u001b[0;31m \u001b[0md\u001b[0m\u001b[0;34m[\u001b[0m\u001b[0;36m0\u001b[0m\u001b[0;34m]\u001b[0m\u001b[0;34m\u001b[0m\u001b[0;34m\u001b[0m\u001b[0m\n\u001b[0m",
      "\u001b[0;31mKeyError\u001b[0m: 0"
     ]
    }
   ],
   "source": []
  },
  {
   "cell_type": "code",
   "execution_count": 9,
   "id": "e7406f86-23b5-457b-b914-eb3c3bd7ffae",
   "metadata": {},
   "outputs": [
    {
     "ename": "ValueError",
     "evalue": "Could not find the file \"/workspace/dataset22/topics-task3.xml\". Got: ['/workspace/dataset22/images']",
     "output_type": "error",
     "traceback": [
      "\u001b[0;31m---------------------------------------------------------------------------\u001b[0m",
      "\u001b[0;31mValueError\u001b[0m                                Traceback (most recent call last)",
      "\u001b[0;32m/tmp/ipykernel_15/558956450.py\u001b[0m in \u001b[0;36m<module>\u001b[0;34m\u001b[0m\n\u001b[0;32m----> 1\u001b[0;31m \u001b[0mqueries\u001b[0m \u001b[0;34m=\u001b[0m \u001b[0mload_queries\u001b[0m\u001b[0;34m(\u001b[0m\u001b[0;34m)\u001b[0m\u001b[0;34m\u001b[0m\u001b[0;34m\u001b[0m\u001b[0m\n\u001b[0m\u001b[1;32m      2\u001b[0m \u001b[0mqueries\u001b[0m\u001b[0;34m.\u001b[0m\u001b[0mhead\u001b[0m\u001b[0;34m(\u001b[0m\u001b[0;36m2\u001b[0m\u001b[0;34m)\u001b[0m\u001b[0;34m\u001b[0m\u001b[0;34m\u001b[0m\u001b[0m\n",
      "\u001b[0;32m/tmp/ipykernel_15/3326644564.py\u001b[0m in \u001b[0;36mload_queries\u001b[0;34m()\u001b[0m\n\u001b[1;32m     11\u001b[0m \u001b[0;34m\u001b[0m\u001b[0m\n\u001b[1;32m     12\u001b[0m     \u001b[0;32mif\u001b[0m \u001b[0;32mnot\u001b[0m \u001b[0mos\u001b[0m\u001b[0;34m.\u001b[0m\u001b[0mpath\u001b[0m\u001b[0;34m.\u001b[0m\u001b[0mexists\u001b[0m\u001b[0;34m(\u001b[0m\u001b[0mfile_name\u001b[0m\u001b[0;34m)\u001b[0m\u001b[0;34m:\u001b[0m\u001b[0;34m\u001b[0m\u001b[0;34m\u001b[0m\u001b[0m\n\u001b[0;32m---> 13\u001b[0;31m         \u001b[0;32mraise\u001b[0m \u001b[0mValueError\u001b[0m\u001b[0;34m(\u001b[0m\u001b[0;34mf'Could not find the file \"{file_name}\". Got: {glob(input_directory + \"/*\")}'\u001b[0m\u001b[0;34m)\u001b[0m\u001b[0;34m\u001b[0m\u001b[0;34m\u001b[0m\u001b[0m\n\u001b[0m\u001b[1;32m     14\u001b[0m \u001b[0;34m\u001b[0m\u001b[0m\n\u001b[1;32m     15\u001b[0m     \u001b[0mtopics\u001b[0m \u001b[0;34m=\u001b[0m \u001b[0mpd\u001b[0m\u001b[0;34m.\u001b[0m\u001b[0mread_xml\u001b[0m\u001b[0;34m(\u001b[0m\u001b[0mfile_name\u001b[0m\u001b[0;34m)\u001b[0m\u001b[0;34m\u001b[0m\u001b[0;34m\u001b[0m\u001b[0m\n",
      "\u001b[0;31mValueError\u001b[0m: Could not find the file \"/workspace/dataset22/topics-task3.xml\". Got: ['/workspace/dataset22/images']"
     ]
    }
   ],
   "source": [
    "queries = load_queries()  \n",
    "queries.head(2)"
   ]
  },
  {
   "cell_type": "code",
   "execution_count": 26,
   "id": "8d163b28-a0f0-437f-baad-437b6bac94f6",
   "metadata": {},
   "outputs": [],
   "source": [
    "test_ids = os.listdir(input_directory +'/images/' + \"I00\")[0:10] #[\"I00\", \"I01\",\"I02\", \"I03\", \"I04\", \"I05\", \"I06\"]\n",
    "query = \"\""
   ]
  },
  {
   "cell_type": "code",
   "execution_count": 29,
   "id": "5815ac76-26cd-4502-97b2-accf43f3857d",
   "metadata": {},
   "outputs": [
    {
     "name": "stdout",
     "output_type": "stream",
     "text": [
      "I000330ba4ea0ad13 contra 0.4679756462574005\n",
      "I000d8de9c4746ee9 pro 0.3815423846244812\n",
      "I0010d5b5473065fa pro 0.6040793061256409\n",
      "I001652ec040f07c4 pro 0.4360259473323822\n",
      "I001a318b3176d501 pro 0.379162460565567\n",
      "I001b3068979b8629 pro 0.4018160402774811\n",
      "I001c2de5ef28f77f pro 0.4739639461040497\n",
      "I001d567f0fb443d7 neutral 0.3531545400619507\n",
      "I00246a6916fec768 pro 0.3388685882091522\n",
      "I0024c0097c425855 pro 0.38304683566093445\n"
     ]
    },
    {
     "data": {
      "text/plain": [
       "(['I0010d5b5473065fa', 'I001c2de5ef28f77f'], ['I000330ba4ea0ad13'])"
      ]
     },
     "execution_count": 29,
     "metadata": {},
     "output_type": "execute_result"
    }
   ],
   "source": [
    "detect_stance_for_image_ids_and_return_best_x_results_for_each_side(test_ids, query, 2)"
   ]
  },
  {
   "cell_type": "code",
   "execution_count": 13,
   "id": "b179fe82-46c3-4205-9c42-d5ee18781622",
   "metadata": {},
   "outputs": [
    {
     "data": {
      "text/plain": [
       "{'sequence': 'Abortion is a universal right.',\n",
       " 'labels': ['pro abortion', 'neutral abortion', 'contra abortion'],\n",
       " 'scores': [0.8498501777648926, 0.1026904508471489, 0.04745934531092644]}"
      ]
     },
     "execution_count": 13,
     "metadata": {},
     "output_type": "execute_result"
    }
   ],
   "source": [
    "sequence_to_classify = \"Abortion is a universal right.\"\n",
    "candidate_labels = ['pro abortion', 'contra abortion', 'neutral abortion']\n",
    "classifier(sequence_to_classify, candidate_labels)\n"
   ]
  }
 ],
 "metadata": {
  "kernelspec": {
   "display_name": "Python 3 (ipykernel)",
   "language": "python",
   "name": "python3"
  },
  "language_info": {
   "codemirror_mode": {
    "name": "ipython",
    "version": 3
   },
   "file_extension": ".py",
   "mimetype": "text/x-python",
   "name": "python",
   "nbconvert_exporter": "python",
   "pygments_lexer": "ipython3",
   "version": "3.7.13"
  }
 },
 "nbformat": 4,
 "nbformat_minor": 5
}
