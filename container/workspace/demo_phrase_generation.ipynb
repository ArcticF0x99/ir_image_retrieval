{
 "cells": [
  {
   "cell_type": "code",
   "execution_count": 1,
   "id": "5a0f839c-c7cc-47c5-b3ce-2471ebbe7209",
   "metadata": {},
   "outputs": [],
   "source": [
    "!pip freeze > freeze.txt"
   ]
  },
  {
   "cell_type": "code",
   "execution_count": 4,
   "id": "f4d33547-ed69-4512-9cb3-ea214f84e595",
   "metadata": {},
   "outputs": [
    {
     "name": "stdout",
     "output_type": "stream",
     "text": [
      "Collecting en-core-web-lg==3.4.1\n",
      "  Downloading https://github.com/explosion/spacy-models/releases/download/en_core_web_lg-3.4.1/en_core_web_lg-3.4.1-py3-none-any.whl (587.7 MB)\n",
      "\u001b[K     |████████████████████████████████| 587.7 MB 66 kB/s s eta 0:00:01    |████████▏                       | 150.1 MB 2.2 MB/s eta 0:03:16     |█████████████▏                  | 242.0 MB 9.4 MB/s eta 0:00:37     |█████████████████████▍          | 393.3 MB 30.8 MB/s eta 0:00:07     |███████████████████████▎        | 427.5 MB 1.8 MB/s eta 0:01:27     |██████████████████████████████▌ | 559.3 MB 1.8 MB/s eta 0:00:16��███████████▉| 583.7 MB 39.4 MB/s eta 0:00:01\n",
      "\u001b[?25hRequirement already satisfied: spacy==3.4.3 in /opt/conda/lib/python3.7/site-packages (from -r requirements.txt (line 1)) (3.4.3)\n",
      "Requirement already satisfied: pydantic==1.10.2 in /opt/conda/lib/python3.7/site-packages (from -r requirements.txt (line 2)) (1.10.2)\n",
      "Collecting wordfreq==3.0.3\n",
      "  Downloading wordfreq-3.0.3-py3-none-any.whl (56.8 MB)\n",
      "\u001b[K     |████████████████████████████████| 56.8 MB 32.6 MB/s eta 0:00:01\n",
      "\u001b[?25hRequirement already satisfied: jinja2 in /opt/conda/lib/python3.7/site-packages (from spacy==3.4.3->-r requirements.txt (line 1)) (3.1.2)\n",
      "Requirement already satisfied: numpy>=1.15.0 in /opt/conda/lib/python3.7/site-packages (from spacy==3.4.3->-r requirements.txt (line 1)) (1.21.5)\n",
      "Requirement already satisfied: wasabi<1.1.0,>=0.9.1 in /opt/conda/lib/python3.7/site-packages (from spacy==3.4.3->-r requirements.txt (line 1)) (0.10.1)\n",
      "Requirement already satisfied: typer<0.8.0,>=0.3.0 in /opt/conda/lib/python3.7/site-packages (from spacy==3.4.3->-r requirements.txt (line 1)) (0.7.0)\n",
      "Requirement already satisfied: murmurhash<1.1.0,>=0.28.0 in /opt/conda/lib/python3.7/site-packages (from spacy==3.4.3->-r requirements.txt (line 1)) (1.0.9)\n",
      "Requirement already satisfied: packaging>=20.0 in /opt/conda/lib/python3.7/site-packages (from spacy==3.4.3->-r requirements.txt (line 1)) (21.3)\n",
      "Requirement already satisfied: preshed<3.1.0,>=3.0.2 in /opt/conda/lib/python3.7/site-packages (from spacy==3.4.3->-r requirements.txt (line 1)) (3.0.8)\n",
      "Requirement already satisfied: langcodes<4.0.0,>=3.2.0 in /opt/conda/lib/python3.7/site-packages (from spacy==3.4.3->-r requirements.txt (line 1)) (3.3.0)\n",
      "Requirement already satisfied: thinc<8.2.0,>=8.1.0 in /opt/conda/lib/python3.7/site-packages (from spacy==3.4.3->-r requirements.txt (line 1)) (8.1.7)\n",
      "Requirement already satisfied: requests<3.0.0,>=2.13.0 in /opt/conda/lib/python3.7/site-packages (from spacy==3.4.3->-r requirements.txt (line 1)) (2.27.1)\n",
      "Requirement already satisfied: tqdm<5.0.0,>=4.38.0 in /opt/conda/lib/python3.7/site-packages (from spacy==3.4.3->-r requirements.txt (line 1)) (4.63.0)\n",
      "Requirement already satisfied: spacy-loggers<2.0.0,>=1.0.0 in /opt/conda/lib/python3.7/site-packages (from spacy==3.4.3->-r requirements.txt (line 1)) (1.0.4)\n",
      "Requirement already satisfied: srsly<3.0.0,>=2.4.3 in /opt/conda/lib/python3.7/site-packages (from spacy==3.4.3->-r requirements.txt (line 1)) (2.4.5)\n",
      "Requirement already satisfied: spacy-legacy<3.1.0,>=3.0.10 in /opt/conda/lib/python3.7/site-packages (from spacy==3.4.3->-r requirements.txt (line 1)) (3.0.12)\n",
      "Requirement already satisfied: typing-extensions<4.2.0,>=3.7.4 in /opt/conda/lib/python3.7/site-packages (from spacy==3.4.3->-r requirements.txt (line 1)) (4.1.1)\n",
      "Requirement already satisfied: catalogue<2.1.0,>=2.0.6 in /opt/conda/lib/python3.7/site-packages (from spacy==3.4.3->-r requirements.txt (line 1)) (2.0.8)\n",
      "Requirement already satisfied: cymem<2.1.0,>=2.0.2 in /opt/conda/lib/python3.7/site-packages (from spacy==3.4.3->-r requirements.txt (line 1)) (2.0.7)\n",
      "Requirement already satisfied: pathy>=0.3.5 in /opt/conda/lib/python3.7/site-packages (from spacy==3.4.3->-r requirements.txt (line 1)) (0.10.1)\n",
      "Requirement already satisfied: setuptools in /opt/conda/lib/python3.7/site-packages (from spacy==3.4.3->-r requirements.txt (line 1)) (61.2.0)\n",
      "Collecting ftfy>=6.1\n",
      "  Downloading ftfy-6.1.1-py3-none-any.whl (53 kB)\n",
      "\u001b[K     |████████████████████████████████| 53 kB 1.5 MB/s  eta 0:00:01\n",
      "\u001b[?25hCollecting regex>=2021.7.6\n",
      "  Downloading regex-2022.10.31-cp37-cp37m-manylinux_2_17_x86_64.manylinux2014_x86_64.whl (757 kB)\n",
      "\u001b[K     |████████████████████████████████| 757 kB 34.9 MB/s eta 0:00:01\n",
      "\u001b[?25hCollecting msgpack>=1.0\n",
      "  Downloading msgpack-1.0.4-cp37-cp37m-manylinux_2_17_x86_64.manylinux2014_x86_64.whl (299 kB)\n",
      "\u001b[K     |████████████████████████████████| 299 kB 40.4 MB/s eta 0:00:01\n",
      "\u001b[?25hRequirement already satisfied: zipp>=0.5 in /opt/conda/lib/python3.7/site-packages (from catalogue<2.1.0,>=2.0.6->spacy==3.4.3->-r requirements.txt (line 1)) (3.10.0)\n",
      "Requirement already satisfied: wcwidth>=0.2.5 in /opt/conda/lib/python3.7/site-packages (from ftfy>=6.1->wordfreq==3.0.3->-r requirements.txt (line 4)) (0.2.5)\n",
      "Requirement already satisfied: pyparsing!=3.0.5,>=2.0.2 in /opt/conda/lib/python3.7/site-packages (from packaging>=20.0->spacy==3.4.3->-r requirements.txt (line 1)) (3.0.9)\n",
      "Requirement already satisfied: smart-open<7.0.0,>=5.2.1 in /opt/conda/lib/python3.7/site-packages (from pathy>=0.3.5->spacy==3.4.3->-r requirements.txt (line 1)) (6.3.0)\n",
      "Requirement already satisfied: certifi>=2017.4.17 in /opt/conda/lib/python3.7/site-packages (from requests<3.0.0,>=2.13.0->spacy==3.4.3->-r requirements.txt (line 1)) (2022.6.15)\n",
      "Requirement already satisfied: idna<4,>=2.5 in /opt/conda/lib/python3.7/site-packages (from requests<3.0.0,>=2.13.0->spacy==3.4.3->-r requirements.txt (line 1)) (3.3)\n",
      "Requirement already satisfied: urllib3<1.27,>=1.21.1 in /opt/conda/lib/python3.7/site-packages (from requests<3.0.0,>=2.13.0->spacy==3.4.3->-r requirements.txt (line 1)) (1.26.8)\n",
      "Requirement already satisfied: charset-normalizer~=2.0.0 in /opt/conda/lib/python3.7/site-packages (from requests<3.0.0,>=2.13.0->spacy==3.4.3->-r requirements.txt (line 1)) (2.0.4)\n",
      "Requirement already satisfied: blis<0.8.0,>=0.7.8 in /opt/conda/lib/python3.7/site-packages (from thinc<8.2.0,>=8.1.0->spacy==3.4.3->-r requirements.txt (line 1)) (0.7.9)\n",
      "Requirement already satisfied: confection<1.0.0,>=0.0.1 in /opt/conda/lib/python3.7/site-packages (from thinc<8.2.0,>=8.1.0->spacy==3.4.3->-r requirements.txt (line 1)) (0.0.4)\n",
      "Requirement already satisfied: click<9.0.0,>=7.1.1 in /opt/conda/lib/python3.7/site-packages (from typer<0.8.0,>=0.3.0->spacy==3.4.3->-r requirements.txt (line 1)) (8.1.3)\n",
      "Requirement already satisfied: importlib-metadata in /opt/conda/lib/python3.7/site-packages (from click<9.0.0,>=7.1.1->typer<0.8.0,>=0.3.0->spacy==3.4.3->-r requirements.txt (line 1)) (5.0.0)\n",
      "Requirement already satisfied: MarkupSafe>=2.0 in /opt/conda/lib/python3.7/site-packages (from jinja2->spacy==3.4.3->-r requirements.txt (line 1)) (2.0.1)\n",
      "Installing collected packages: regex, msgpack, ftfy, wordfreq\n",
      "Successfully installed ftfy-6.1.1 msgpack-1.0.4 regex-2022.10.31 wordfreq-3.0.3\n",
      "\u001b[33mWARNING: Running pip as the 'root' user can result in broken permissions and conflicting behaviour with the system package manager. It is recommended to use a virtual environment instead: https://pip.pypa.io/warnings/venv\u001b[0m\n"
     ]
    }
   ],
   "source": [
    "!python -m pip install -r requirements.txt"
   ]
  },
  {
   "cell_type": "code",
   "execution_count": 1,
   "id": "bab632a9-e3cc-463f-8679-cd92f37b35d1",
   "metadata": {},
   "outputs": [],
   "source": [
    "from bs4 import BeautifulSoup\n",
    "\n",
    "with open('dataset22/topics.xml', 'r') as f:\n",
    "    data = f.read()\n",
    "\n",
    "data = BeautifulSoup(data, \"xml\")\n",
    "topics = [tags.findAll(text=True)[0] for tags in  data.findAll('title', text=True)]"
   ]
  },
  {
   "cell_type": "code",
   "execution_count": 2,
   "id": "2cc1a195-8949-46ec-af39-4223f92c604b",
   "metadata": {},
   "outputs": [
    {
     "name": "stderr",
     "output_type": "stream",
     "text": [
      "/opt/conda/lib/python3.7/site-packages/tqdm/auto.py:22: TqdmWarning: IProgress not found. Please update jupyter and ipywidgets. See https://ipywidgets.readthedocs.io/en/stable/user_install.html\n",
      "  from .autonotebook import tqdm as notebook_tqdm\n"
     ]
    },
    {
     "name": "stdout",
     "output_type": "stream",
     "text": [
      "Collecting en-core-web-lg==3.4.1\n",
      "  Downloading https://github.com/explosion/spacy-models/releases/download/en_core_web_lg-3.4.1/en_core_web_lg-3.4.1-py3-none-any.whl (587.7 MB)\n",
      "Requirement already satisfied: spacy<3.5.0,>=3.4.0 in /opt/conda/lib/python3.7/site-packages (from en-core-web-lg==3.4.1) (3.4.3)\n",
      "Requirement already satisfied: tqdm<5.0.0,>=4.38.0 in /opt/conda/lib/python3.7/site-packages (from spacy<3.5.0,>=3.4.0->en-core-web-lg==3.4.1) (4.63.0)\n",
      "Requirement already satisfied: spacy-legacy<3.1.0,>=3.0.10 in /opt/conda/lib/python3.7/site-packages (from spacy<3.5.0,>=3.4.0->en-core-web-lg==3.4.1) (3.0.12)\n",
      "Requirement already satisfied: spacy-loggers<2.0.0,>=1.0.0 in /opt/conda/lib/python3.7/site-packages (from spacy<3.5.0,>=3.4.0->en-core-web-lg==3.4.1) (1.0.4)\n",
      "Requirement already satisfied: setuptools in /opt/conda/lib/python3.7/site-packages (from spacy<3.5.0,>=3.4.0->en-core-web-lg==3.4.1) (61.2.0)\n",
      "Requirement already satisfied: wasabi<1.1.0,>=0.9.1 in /opt/conda/lib/python3.7/site-packages (from spacy<3.5.0,>=3.4.0->en-core-web-lg==3.4.1) (0.10.1)\n",
      "Requirement already satisfied: jinja2 in /opt/conda/lib/python3.7/site-packages (from spacy<3.5.0,>=3.4.0->en-core-web-lg==3.4.1) (3.1.2)\n",
      "Requirement already satisfied: srsly<3.0.0,>=2.4.3 in /opt/conda/lib/python3.7/site-packages (from spacy<3.5.0,>=3.4.0->en-core-web-lg==3.4.1) (2.4.5)\n",
      "Requirement already satisfied: catalogue<2.1.0,>=2.0.6 in /opt/conda/lib/python3.7/site-packages (from spacy<3.5.0,>=3.4.0->en-core-web-lg==3.4.1) (2.0.8)\n",
      "Requirement already satisfied: pathy>=0.3.5 in /opt/conda/lib/python3.7/site-packages (from spacy<3.5.0,>=3.4.0->en-core-web-lg==3.4.1) (0.10.1)\n",
      "Requirement already satisfied: requests<3.0.0,>=2.13.0 in /opt/conda/lib/python3.7/site-packages (from spacy<3.5.0,>=3.4.0->en-core-web-lg==3.4.1) (2.27.1)\n",
      "Requirement already satisfied: typing-extensions<4.2.0,>=3.7.4 in /opt/conda/lib/python3.7/site-packages (from spacy<3.5.0,>=3.4.0->en-core-web-lg==3.4.1) (4.1.1)\n",
      "Requirement already satisfied: packaging>=20.0 in /opt/conda/lib/python3.7/site-packages (from spacy<3.5.0,>=3.4.0->en-core-web-lg==3.4.1) (21.3)\n",
      "Requirement already satisfied: typer<0.8.0,>=0.3.0 in /opt/conda/lib/python3.7/site-packages (from spacy<3.5.0,>=3.4.0->en-core-web-lg==3.4.1) (0.7.0)\n",
      "Requirement already satisfied: murmurhash<1.1.0,>=0.28.0 in /opt/conda/lib/python3.7/site-packages (from spacy<3.5.0,>=3.4.0->en-core-web-lg==3.4.1) (1.0.9)\n",
      "Requirement already satisfied: cymem<2.1.0,>=2.0.2 in /opt/conda/lib/python3.7/site-packages (from spacy<3.5.0,>=3.4.0->en-core-web-lg==3.4.1) (2.0.7)\n",
      "Requirement already satisfied: preshed<3.1.0,>=3.0.2 in /opt/conda/lib/python3.7/site-packages (from spacy<3.5.0,>=3.4.0->en-core-web-lg==3.4.1) (3.0.8)\n",
      "Requirement already satisfied: pydantic!=1.8,!=1.8.1,<1.11.0,>=1.7.4 in /opt/conda/lib/python3.7/site-packages (from spacy<3.5.0,>=3.4.0->en-core-web-lg==3.4.1) (1.10.2)\n",
      "Requirement already satisfied: thinc<8.2.0,>=8.1.0 in /opt/conda/lib/python3.7/site-packages (from spacy<3.5.0,>=3.4.0->en-core-web-lg==3.4.1) (8.1.7)\n",
      "Requirement already satisfied: langcodes<4.0.0,>=3.2.0 in /opt/conda/lib/python3.7/site-packages (from spacy<3.5.0,>=3.4.0->en-core-web-lg==3.4.1) (3.3.0)\n",
      "Requirement already satisfied: numpy>=1.15.0 in /opt/conda/lib/python3.7/site-packages (from spacy<3.5.0,>=3.4.0->en-core-web-lg==3.4.1) (1.21.5)\n",
      "Requirement already satisfied: zipp>=0.5 in /opt/conda/lib/python3.7/site-packages (from catalogue<2.1.0,>=2.0.6->spacy<3.5.0,>=3.4.0->en-core-web-lg==3.4.1) (3.10.0)\n",
      "Requirement already satisfied: pyparsing!=3.0.5,>=2.0.2 in /opt/conda/lib/python3.7/site-packages (from packaging>=20.0->spacy<3.5.0,>=3.4.0->en-core-web-lg==3.4.1) (3.0.9)\n",
      "Requirement already satisfied: smart-open<7.0.0,>=5.2.1 in /opt/conda/lib/python3.7/site-packages (from pathy>=0.3.5->spacy<3.5.0,>=3.4.0->en-core-web-lg==3.4.1) (6.3.0)\n",
      "Requirement already satisfied: urllib3<1.27,>=1.21.1 in /opt/conda/lib/python3.7/site-packages (from requests<3.0.0,>=2.13.0->spacy<3.5.0,>=3.4.0->en-core-web-lg==3.4.1) (1.26.8)\n",
      "Requirement already satisfied: idna<4,>=2.5 in /opt/conda/lib/python3.7/site-packages (from requests<3.0.0,>=2.13.0->spacy<3.5.0,>=3.4.0->en-core-web-lg==3.4.1) (3.3)\n",
      "Requirement already satisfied: certifi>=2017.4.17 in /opt/conda/lib/python3.7/site-packages (from requests<3.0.0,>=2.13.0->spacy<3.5.0,>=3.4.0->en-core-web-lg==3.4.1) (2022.6.15)\n",
      "Requirement already satisfied: charset-normalizer~=2.0.0 in /opt/conda/lib/python3.7/site-packages (from requests<3.0.0,>=2.13.0->spacy<3.5.0,>=3.4.0->en-core-web-lg==3.4.1) (2.0.4)\n",
      "Requirement already satisfied: confection<1.0.0,>=0.0.1 in /opt/conda/lib/python3.7/site-packages (from thinc<8.2.0,>=8.1.0->spacy<3.5.0,>=3.4.0->en-core-web-lg==3.4.1) (0.0.4)\n",
      "Requirement already satisfied: blis<0.8.0,>=0.7.8 in /opt/conda/lib/python3.7/site-packages (from thinc<8.2.0,>=8.1.0->spacy<3.5.0,>=3.4.0->en-core-web-lg==3.4.1) (0.7.9)\n",
      "Requirement already satisfied: click<9.0.0,>=7.1.1 in /opt/conda/lib/python3.7/site-packages (from typer<0.8.0,>=0.3.0->spacy<3.5.0,>=3.4.0->en-core-web-lg==3.4.1) (8.1.3)\n",
      "Requirement already satisfied: importlib-metadata in /opt/conda/lib/python3.7/site-packages (from click<9.0.0,>=7.1.1->typer<0.8.0,>=0.3.0->spacy<3.5.0,>=3.4.0->en-core-web-lg==3.4.1) (5.0.0)\n",
      "Requirement already satisfied: MarkupSafe>=2.0 in /opt/conda/lib/python3.7/site-packages (from jinja2->spacy<3.5.0,>=3.4.0->en-core-web-lg==3.4.1) (2.0.1)\n"
     ]
    },
    {
     "name": "stderr",
     "output_type": "stream",
     "text": [
      "WARNING: Running pip as the 'root' user can result in broken permissions and conflicting behaviour with the system package manager. It is recommended to use a virtual environment instead: https://pip.pypa.io/warnings/venv\n"
     ]
    },
    {
     "name": "stdout",
     "output_type": "stream",
     "text": [
      "\u001b[38;5;2m✔ Download and installation successful\u001b[0m\n",
      "You can now load the package via spacy.load('en_core_web_lg')\n",
      "(['get teachers tenure', 'vape e - cigarettes safe', 'allow insider trading', 'use corporal punishment schools', 'privatize social security', 'be college education worth', 'allow felons completed sentence vote', 'be abortion legal', 'have students wear uniforms', 'require vaccines children', 'accept performance enhancing drugs sports', 'be birth control pills available counter', 'replace alternative energy effectively fossil fuels', 'be sexual orientation determined birth', 'use animals scientific commercial testing', 'advertise prescription drugs directly consumers', 'be recreational marijuana legal', 'remain churches tax exempt', 'be gay marriage legal', 'drink milk healthy humans', 'be human activity primarily responsible global climate change', 'be solution acceptable solution Israeli Palestinian conflict', 'be euthanasia physician assisted suicide legal', 'create lowering federal corporate income tax rate jobs', 'be education', 'improve standardized tests education', 'enact gun control laws', 'be prostitution legal', 'allow government illegal immigrants become citizens', 'have adults carry concealed handgun', 'be obesity disease', 'improve electronic voting machines voting process', 'become vegetarian', 'be social networking sites society', 'contribute violent video games youth violence', 'be golf sport', 'be cell phone radiation safe', 'be marijuana medical option', 'increase federal minimum wage', 'allow death penalty', 'be student loan debt easier discharge bankruptcy', 'allow fighting hockey', 'ban bottled water', 'be election national holiday', 'stay penny circulation', 'restore net neutrality', 'be homework beneficial', 'lower voting age', 'be body cameras mandatory police', 'get everyone universal basic income'], ['not get teachers tenure', 'not vape e - cigarettes safe', 'not allow insider trading', 'not use corporal punishment schools', 'not privatize social security', 'not be college education worth', 'not allow felons completed sentence vote', 'not be abortion legal', 'not have students wear uniforms', 'not require vaccines children', 'not accept performance enhancing drugs sports', 'not be birth control pills available counter', 'not replace alternative energy effectively fossil fuels', 'not be sexual orientation determined birth', 'not use animals scientific commercial testing', 'not advertise prescription drugs directly consumers', 'not be recreational marijuana legal', 'not remain churches tax exempt', 'not be gay marriage legal', 'not drink milk healthy humans', 'not be human activity primarily responsible global climate change', 'not be solution acceptable solution Israeli Palestinian conflict', 'not be euthanasia physician assisted suicide legal', 'not create lowering federal corporate income tax rate jobs', 'not be education', 'not improve standardized tests education', 'not enact gun control laws', 'not be prostitution legal', 'not allow government illegal immigrants become citizens', 'not have adults carry concealed handgun', 'not be obesity disease', 'not improve electronic voting machines voting process', 'not become vegetarian', 'not be social networking sites society', 'not contribute violent video games youth violence', 'not be golf sport', 'not be cell phone radiation safe', 'not be marijuana medical option', 'not increase federal minimum wage', 'not allow death penalty', 'not be student loan debt easier discharge bankruptcy', 'not allow fighting hockey', 'not ban bottled water', 'not be election national holiday', 'not stay penny circulation', 'not restore net neutrality', 'not be homework beneficial', 'not lower voting age', 'not be body cameras mandatory police', 'not get everyone universal basic income'])\n"
     ]
    }
   ],
   "source": [
    "import phrase_generation\n",
    "\n",
    "print(phrase_generation.generate_phrases([str(t) for t in topics], 'frequency'))"
   ]
  }
 ],
 "metadata": {
  "kernelspec": {
   "display_name": "Python 3 (ipykernel)",
   "language": "python",
   "name": "python3"
  },
  "language_info": {
   "codemirror_mode": {
    "name": "ipython",
    "version": 3
   },
   "file_extension": ".py",
   "mimetype": "text/x-python",
   "name": "python",
   "nbconvert_exporter": "python",
   "pygments_lexer": "ipython3",
   "version": "3.7.13"
  }
 },
 "nbformat": 4,
 "nbformat_minor": 5
}
