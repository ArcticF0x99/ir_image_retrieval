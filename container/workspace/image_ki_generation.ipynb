{
 "cells": [
  {
   "cell_type": "code",
   "execution_count": 7,
   "id": "02a48164-effc-4463-925d-a2e9694d045d",
   "metadata": {
    "scrolled": true,
    "tags": []
   },
   "outputs": [
    {
     "name": "stdout",
     "output_type": "stream",
     "text": [
      "\n",
      "Usage:   \n",
      "  /opt/conda/bin/python -m pip install [options] <requirement specifier> [package-index-options] ...\n",
      "  /opt/conda/bin/python -m pip install [options] -r <requirements file> [package-index-options] ...\n",
      "  /opt/conda/bin/python -m pip install [options] [-e] <vcs project url> ...\n",
      "  /opt/conda/bin/python -m pip install [options] [-e] <local project path> ...\n",
      "  /opt/conda/bin/python -m pip install [options] <archive url/path> ...\n",
      "\n",
      "no such option: --quite\n",
      "Note: you may need to restart the kernel to use updated packages.\n"
     ]
    }
   ],
   "source": [
    "pip install --quite diffusers transformers scipy accelerate "
   ]
  },
  {
   "cell_type": "code",
   "execution_count": 8,
   "id": "1bf068b0-d973-4c33-95b3-7932af7c1251",
   "metadata": {},
   "outputs": [
    {
     "name": "stdout",
     "output_type": "stream",
     "text": [
      "Read a token of length 37\n"
     ]
    }
   ],
   "source": [
    "with open('token.txt') as ifp:\n",
    "    access_token = ifp.readline()\n",
    "    print('Read a token of length {}'.format( len(access_token) ))"
   ]
  },
  {
   "cell_type": "code",
   "execution_count": 9,
   "id": "5afafddf-7363-447e-a828-9a09b1d96a28",
   "metadata": {
    "scrolled": true,
    "tags": []
   },
   "outputs": [],
   "source": [
    "import torch\n",
    "from diffusers import StableDiffusionPipeline, EulerDiscreteScheduler\n",
    "\n",
    "model_id = \"CompVis/stable-diffusion-v1-4\"\n",
    "device = \"cuda\""
   ]
  },
  {
   "cell_type": "code",
   "execution_count": 14,
   "id": "18a9c543-94e3-44b0-9802-8729cbdc9505",
   "metadata": {
    "scrolled": true,
    "tags": []
   },
   "outputs": [
    {
     "name": "stderr",
     "output_type": "stream",
     "text": [
      "Fetching 16 files: 100%|███████████████████████████████████████████████████████████████| 16/16 [00:00<00:00, 116.97it/s]\n",
      "ftfy or spacy is not installed using BERT BasicTokenizer instead of ftfy.\n"
     ]
    }
   ],
   "source": [
    "pipe = StableDiffusionPipeline.from_pretrained(model_id, torch_dtype=torch.float32, revision=\"fp16\", use_auth_token=access_token, device_map=\"auto\", cache_dir=\"stable_diffusion_cache\")\n",
    "# pipe = pipe.to(device)"
   ]
  },
  {
   "cell_type": "code",
   "execution_count": 13,
   "id": "4b9f51fc-d924-4338-a42e-558be95782ff",
   "metadata": {},
   "outputs": [
    {
     "name": "stderr",
     "output_type": "stream",
     "text": [
      "Downloading: 100%|██████████████████████████████████████████████████████████████████████| 313/313 [00:00<00:00, 110kB/s]\n",
      "Fetching 16 files: 100%|██████████████████████████████████████████████████████████████| 16/16 [00:00<00:00, 6979.60it/s]\n",
      "ftfy or spacy is not installed using BERT BasicTokenizer instead of ftfy.\n"
     ]
    }
   ],
   "source": [
    "scheduler = EulerDiscreteScheduler.from_pretrained(model_id, subfolder=\"scheduler\")\n",
    "pipe = StableDiffusionPipeline.from_pretrained(model_id, scheduler=scheduler, torch_dtype=torch.float16, revision=\"fp16\")\n",
    "# pipe = pipe.to(\"cuda\")"
   ]
  },
  {
   "cell_type": "code",
   "execution_count": 16,
   "id": "fbaca114-3b46-49f1-af66-c243b7224dca",
   "metadata": {},
   "outputs": [
    {
     "name": "stderr",
     "output_type": "stream",
     "text": [
      "100%|███████████████████████████████████████████████████████████████████████████████████| 51/51 [12:19<00:00, 14.49s/it]\n"
     ]
    }
   ],
   "source": [
    "prompt = \"Should teachers get tenure?\"\n",
    "image = pipe(prompt)"
   ]
  },
  {
   "cell_type": "code",
   "execution_count": 17,
   "id": "036a10f7-6b81-4e1c-a84d-9c83174861d9",
   "metadata": {},
   "outputs": [
    {
     "ename": "AttributeError",
     "evalue": "'StableDiffusionPipelineOutput' object has no attribute 'save'",
     "output_type": "error",
     "traceback": [
      "\u001b[0;31m---------------------------------------------------------------------------\u001b[0m",
      "\u001b[0;31mAttributeError\u001b[0m                            Traceback (most recent call last)",
      "\u001b[0;32m/tmp/ipykernel_197/3374036714.py\u001b[0m in \u001b[0;36m<module>\u001b[0;34m\u001b[0m\n\u001b[0;32m----> 1\u001b[0;31m \u001b[0mimage\u001b[0m\u001b[0;34m.\u001b[0m\u001b[0msave\u001b[0m\u001b[0;34m(\u001b[0m\u001b[0;34m\"image_results/topic_generated.png\"\u001b[0m\u001b[0;34m)\u001b[0m\u001b[0;34m\u001b[0m\u001b[0;34m\u001b[0m\u001b[0m\n\u001b[0m",
      "\u001b[0;31mAttributeError\u001b[0m: 'StableDiffusionPipelineOutput' object has no attribute 'save'"
     ]
    }
   ],
   "source": [
    "image.save(\"image_results/topic_generated.png\")"
   ]
  },
  {
   "cell_type": "code",
   "execution_count": null,
   "id": "d8591663-d629-432b-a66a-3b223c1c7751",
   "metadata": {},
   "outputs": [],
   "source": [
    "from PIL import Image\n",
    "\n",
    "image = Image.open('topic_generated.png')\n",
    "image.show()"
   ]
  },
  {
   "cell_type": "code",
   "execution_count": null,
   "id": "e7c9306f-906b-4785-b09d-5e9ff901e46f",
   "metadata": {},
   "outputs": [],
   "source": []
  }
 ],
 "metadata": {
  "kernelspec": {
   "display_name": "Python 3 (ipykernel)",
   "language": "python",
   "name": "python3"
  },
  "language_info": {
   "codemirror_mode": {
    "name": "ipython",
    "version": 3
   },
   "file_extension": ".py",
   "mimetype": "text/x-python",
   "name": "python",
   "nbconvert_exporter": "python",
   "pygments_lexer": "ipython3",
   "version": "3.7.13"
  }
 },
 "nbformat": 4,
 "nbformat_minor": 5
}
